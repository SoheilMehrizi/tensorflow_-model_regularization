{
 "cells": [
  {
   "cell_type": "markdown",
   "id": "91e96b35",
   "metadata": {},
   "source": [
    "In this notebook, I'll explore several common regularization techniques, and use them to improve on a classification model."
   ]
  },
  {
   "cell_type": "markdown",
   "id": "5227bf41",
   "metadata": {},
   "source": [
    "## Setup"
   ]
  },
  {
   "cell_type": "code",
   "execution_count": 1,
   "id": "1dcff4dc",
   "metadata": {},
   "outputs": [
    {
     "name": "stdout",
     "output_type": "stream",
     "text": [
      "2.19.0\n"
     ]
    }
   ],
   "source": [
    "import tensorflow as tf\n",
    "\n",
    "from tensorflow.keras import layers\n",
    "from tensorflow.keras import regularizers\n",
    "\n",
    "print(tf.__version__)"
   ]
  },
  {
   "cell_type": "code",
   "execution_count": 2,
   "id": "8120717c",
   "metadata": {},
   "outputs": [
    {
     "name": "stdout",
     "output_type": "stream",
     "text": [
      "Collecting git+https://github.com/tensorflow/docs\n",
      "  Cloning https://github.com/tensorflow/docs to c:\\users\\mehri\\appdata\\local\\temp\\pip-req-build-mk2pf6dy\n",
      "  Resolved https://github.com/tensorflow/docs to commit a8576cef38b7182e6228d7aafca8ef51754ab9e8\n",
      "  Preparing metadata (setup.py): started\n",
      "  Preparing metadata (setup.py): finished with status 'done'\n",
      "Collecting astor (from tensorflow-docs==2025.3.6.10029)\n",
      "  Downloading astor-0.8.1-py2.py3-none-any.whl.metadata (4.2 kB)\n",
      "Requirement already satisfied: absl-py in c:\\users\\mehri\\appdata\\local\\programs\\python\\python312\\lib\\site-packages (from tensorflow-docs==2025.3.6.10029) (2.2.2)\n",
      "Requirement already satisfied: jinja2 in c:\\users\\mehri\\appdata\\local\\programs\\python\\python312\\lib\\site-packages (from tensorflow-docs==2025.3.6.10029) (3.1.4)\n",
      "Requirement already satisfied: nbformat in c:\\users\\mehri\\appdata\\local\\programs\\python\\python312\\lib\\site-packages (from tensorflow-docs==2025.3.6.10029) (5.10.4)\n",
      "Requirement already satisfied: protobuf>=3.12 in c:\\users\\mehri\\appdata\\local\\programs\\python\\python312\\lib\\site-packages (from tensorflow-docs==2025.3.6.10029) (5.29.4)\n",
      "Requirement already satisfied: pyyaml in c:\\users\\mehri\\appdata\\local\\programs\\python\\python312\\lib\\site-packages (from tensorflow-docs==2025.3.6.10029) (6.0.2)\n",
      "Requirement already satisfied: MarkupSafe>=2.0 in c:\\users\\mehri\\appdata\\local\\programs\\python\\python312\\lib\\site-packages (from jinja2->tensorflow-docs==2025.3.6.10029) (2.1.5)\n",
      "Requirement already satisfied: fastjsonschema>=2.15 in c:\\users\\mehri\\appdata\\local\\programs\\python\\python312\\lib\\site-packages (from nbformat->tensorflow-docs==2025.3.6.10029) (2.20.0)\n",
      "Requirement already satisfied: jsonschema>=2.6 in c:\\users\\mehri\\appdata\\local\\programs\\python\\python312\\lib\\site-packages (from nbformat->tensorflow-docs==2025.3.6.10029) (4.23.0)\n",
      "Requirement already satisfied: jupyter-core!=5.0.*,>=4.12 in c:\\users\\mehri\\appdata\\local\\programs\\python\\python312\\lib\\site-packages (from nbformat->tensorflow-docs==2025.3.6.10029) (5.7.2)\n",
      "Requirement already satisfied: traitlets>=5.1 in c:\\users\\mehri\\appdata\\local\\programs\\python\\python312\\lib\\site-packages (from nbformat->tensorflow-docs==2025.3.6.10029) (5.14.3)\n",
      "Requirement already satisfied: attrs>=22.2.0 in c:\\users\\mehri\\appdata\\local\\programs\\python\\python312\\lib\\site-packages (from jsonschema>=2.6->nbformat->tensorflow-docs==2025.3.6.10029) (24.2.0)\n",
      "Requirement already satisfied: jsonschema-specifications>=2023.03.6 in c:\\users\\mehri\\appdata\\local\\programs\\python\\python312\\lib\\site-packages (from jsonschema>=2.6->nbformat->tensorflow-docs==2025.3.6.10029) (2023.12.1)\n",
      "Requirement already satisfied: referencing>=0.28.4 in c:\\users\\mehri\\appdata\\local\\programs\\python\\python312\\lib\\site-packages (from jsonschema>=2.6->nbformat->tensorflow-docs==2025.3.6.10029) (0.35.1)\n",
      "Requirement already satisfied: rpds-py>=0.7.1 in c:\\users\\mehri\\appdata\\local\\programs\\python\\python312\\lib\\site-packages (from jsonschema>=2.6->nbformat->tensorflow-docs==2025.3.6.10029) (0.20.0)\n",
      "Requirement already satisfied: platformdirs>=2.5 in c:\\users\\mehri\\appdata\\local\\programs\\python\\python312\\lib\\site-packages (from jupyter-core!=5.0.*,>=4.12->nbformat->tensorflow-docs==2025.3.6.10029) (4.3.3)\n",
      "Requirement already satisfied: pywin32>=300 in c:\\users\\mehri\\appdata\\local\\programs\\python\\python312\\lib\\site-packages (from jupyter-core!=5.0.*,>=4.12->nbformat->tensorflow-docs==2025.3.6.10029) (306)\n",
      "Downloading astor-0.8.1-py2.py3-none-any.whl (27 kB)\n",
      "Building wheels for collected packages: tensorflow-docs\n",
      "  Building wheel for tensorflow-docs (setup.py): started\n",
      "  Building wheel for tensorflow-docs (setup.py): finished with status 'done'\n",
      "  Created wheel for tensorflow-docs: filename=tensorflow_docs-2025.3.6.10029-py3-none-any.whl size=187793 sha256=0e6e608693ab0f7694f7461986608c9d4cabbdb95080c84cdecfe918ae78ae7c\n",
      "  Stored in directory: C:\\Users\\mehri\\AppData\\Local\\Temp\\pip-ephem-wheel-cache-b_om1u9w\\wheels\\3e\\88\\34\\48d2789bc9d37b33ddce06bccc454fae0285e5396d0a5be9d9\n",
      "Successfully built tensorflow-docs\n",
      "Installing collected packages: astor, tensorflow-docs\n",
      "Successfully installed astor-0.8.1 tensorflow-docs-2025.3.6.10029\n"
     ]
    },
    {
     "name": "stderr",
     "output_type": "stream",
     "text": [
      "  Running command git clone --filter=blob:none --quiet https://github.com/tensorflow/docs 'C:\\Users\\mehri\\AppData\\Local\\Temp\\pip-req-build-mk2pf6dy'\n",
      "\n",
      "[notice] A new release of pip is available: 25.0.1 -> 25.1.1\n",
      "[notice] To update, run: python.exe -m pip install --upgrade pip\n"
     ]
    }
   ],
   "source": [
    "!pip install git+https://github.com/tensorflow/docs\n",
    "\n",
    "import tensorflow_docs as tfdocs\n",
    "import tensorflow_docs.modeling\n",
    "import tensorflow_docs.plots"
   ]
  },
  {
   "cell_type": "code",
   "execution_count": 3,
   "id": "107957cc",
   "metadata": {},
   "outputs": [],
   "source": [
    "from  IPython import display\n",
    "from matplotlib import pyplot as plt\n",
    "\n",
    "import numpy as np\n",
    "\n",
    "import pathlib\n",
    "import shutil\n",
    "import tempfile"
   ]
  },
  {
   "cell_type": "code",
   "execution_count": 108,
   "id": "9eea3a73",
   "metadata": {},
   "outputs": [],
   "source": [
    "logdir =\"./tensorboard_logs\"\n",
    "shutil.rmtree(logdir, ignore_errors=True)"
   ]
  },
  {
   "cell_type": "markdown",
   "id": "0cb5f82a",
   "metadata": {},
   "source": [
    "### Loading the date set"
   ]
  },
  {
   "cell_type": "markdown",
   "id": "67186d2f",
   "metadata": {},
   "source": [
    "It contains 11,000,000 examples, each with 28 features, and a binary class label."
   ]
  },
  {
   "cell_type": "code",
   "execution_count": 5,
   "id": "d7c61882",
   "metadata": {},
   "outputs": [
    {
     "name": "stdout",
     "output_type": "stream",
     "text": [
      "Downloading data from http://mlphysics.ics.uci.edu/data/higgs/HIGGS.csv.gz\n",
      "\u001b[1m2816407858/2816407858\u001b[0m \u001b[32m━━━━━━━━━━━━━━━━━━━━\u001b[0m\u001b[37m\u001b[0m \u001b[1m3244s\u001b[0m 1us/step\n"
     ]
    }
   ],
   "source": [
    "gz = tf.keras.utils.get_file('HIGGS.csv.gz', 'http://mlphysics.ics.uci.edu/data/higgs/HIGGS.csv.gz')"
   ]
  },
  {
   "cell_type": "code",
   "execution_count": 41,
   "id": "2d55f24a",
   "metadata": {},
   "outputs": [],
   "source": [
    "FEATURES = 28"
   ]
  },
  {
   "cell_type": "code",
   "execution_count": 42,
   "id": "4e37e8e5",
   "metadata": {},
   "outputs": [],
   "source": [
    "ds = tf.data.experimental.CsvDataset(gz,[float(),]*(FEATURES+1), compression_type=\"GZIP\")"
   ]
  },
  {
   "cell_type": "markdown",
   "id": "0ea12fd7",
   "metadata": {},
   "source": [
    "The following function repacks that list of scalars into a (feature_vector, label) pair."
   ]
  },
  {
   "cell_type": "code",
   "execution_count": 43,
   "id": "29ec9719",
   "metadata": {},
   "outputs": [],
   "source": [
    "def pack_row(*row):\n",
    "  label = row[0]\n",
    "  features = tf.stack(row[1:],1)\n",
    "  return features, label"
   ]
  },
  {
   "cell_type": "markdown",
   "id": "b07ad8ca",
   "metadata": {},
   "source": [
    "TensorFlow is most efficient when operating on large batches of data.\n",
    "\n",
    "So, instead of repacking each row individually make a new tf.data.Dataset that takes batches of 10,000 examples, applies the pack_row function to each batch, and then splits the batches back up into individual records:"
   ]
  },
  {
   "cell_type": "code",
   "execution_count": 44,
   "id": "b4a5ac6a",
   "metadata": {},
   "outputs": [],
   "source": [
    "packed_ds = ds.batch(10000).map(pack_row).unbatch()"
   ]
  },
  {
   "cell_type": "markdown",
   "id": "7261ac94",
   "metadata": {},
   "source": [
    "Inspect some of the records from this new packed_ds."
   ]
  },
  {
   "cell_type": "code",
   "execution_count": 45,
   "id": "099df845",
   "metadata": {},
   "outputs": [
    {
     "name": "stdout",
     "output_type": "stream",
     "text": [
      "tf.Tensor(\n",
      "[ 0.8692932  -0.6350818   0.22569026  0.32747006 -0.6899932   0.75420225\n",
      " -0.24857314 -1.0920639   0.          1.3749921  -0.6536742   0.9303491\n",
      "  1.1074361   1.1389043  -1.5781983  -1.0469854   0.          0.65792954\n",
      " -0.01045457 -0.04576717  3.1019614   1.35376     0.9795631   0.97807616\n",
      "  0.92000484  0.72165745  0.98875093  0.87667835], shape=(28,), dtype=float32)\n"
     ]
    },
    {
     "data": {
      "image/png": "[encoded data removed]",
      "text/plain": [
       "<Figure size 640x480 with 1 Axes>"
      ]
     },
     "metadata": {},
     "output_type": "display_data"
    }
   ],
   "source": [
    "for features,label in packed_ds.batch(1000).take(1):\n",
    "  print(features[0])\n",
    "  plt.hist(features.numpy().flatten(), bins = 101)"
   ]
  },
  {
   "cell_type": "markdown",
   "id": "97db9639",
   "metadata": {},
   "source": [
    "due to hardware insufficiency and lack of time ;I'll use just the first 1,000 samples for validation, and the next 10,000 for training:"
   ]
  },
  {
   "cell_type": "markdown",
   "id": "6a62c97b",
   "metadata": {},
   "source": [
    "## Split and Prepare"
   ]
  },
  {
   "cell_type": "code",
   "execution_count": 57,
   "id": "cd5e4eac",
   "metadata": {},
   "outputs": [],
   "source": [
    "N_VALIDATION = int(1e3)\n",
    "N_TRAIN = int(1e4)\n",
    "BUFFER_SIZE = int(1e4)\n",
    "BATCH_SIZE = 500\n",
    "STEPS_PER_EPOCH = N_TRAIN//BATCH_SIZE"
   ]
  },
  {
   "cell_type": "code",
   "execution_count": 58,
   "id": "aca6d43b",
   "metadata": {},
   "outputs": [],
   "source": [
    "dataset = packed_ds.shuffle(BUFFER_SIZE)\n",
    "validate_ds = dataset.take(N_VALIDATION).cache()\n",
    "train_ds = dataset.skip(N_VALIDATION).take(N_TRAIN).cache()"
   ]
  },
  {
   "cell_type": "code",
   "execution_count": 59,
   "id": "c3cb35be",
   "metadata": {},
   "outputs": [
    {
     "data": {
      "text/plain": [
       "<CacheDataset element_spec=(TensorSpec(shape=(28,), dtype=tf.float32, name=None), TensorSpec(shape=(), dtype=tf.float32, name=None))>"
      ]
     },
     "execution_count": 59,
     "metadata": {},
     "output_type": "execute_result"
    }
   ],
   "source": [
    "train_ds"
   ]
  },
  {
   "cell_type": "markdown",
   "id": "ad05a91f",
   "metadata": {},
   "source": [
    "### Expand, Batch, and Align Labels\n",
    "Map a function over train_ds and validate_ds to insert the singleton channel dimension, turning (batch, FEATURES) → (batch, FEATURES, 1):\n",
    "\n",
    "this helps to get over with tensorflow's issue in its recent upgrade ."
   ]
  },
  {
   "cell_type": "code",
   "execution_count": 60,
   "id": "800f54a1",
   "metadata": {},
   "outputs": [],
   "source": [
    "def add_channel_and_label(x, y):\n",
    "    # x: (FEATURES,) -> (FEATURES, 1)\n",
    "    x = tf.expand_dims(x, axis=-1)\n",
    "    # y: scalar -> (1,) to match model output\n",
    "    y = tf.expand_dims(y, axis=-1)\n",
    "    return x, y\n",
    "\n",
    "# Apply mapping, batching, and prefetching\n",
    "train_ds = (\n",
    "    train_ds\n",
    "    .map(add_channel_and_label, num_parallel_calls=tf.data.AUTOTUNE)\n",
    "    .batch(BATCH_SIZE)\n",
    "    .prefetch(tf.data.AUTOTUNE)\n",
    ")\n",
    "validate_ds = (\n",
    "    validate_ds\n",
    "    .map(add_channel_and_label, num_parallel_calls=tf.data.AUTOTUNE)\n",
    "    .batch(BATCH_SIZE)\n",
    "    .prefetch(tf.data.AUTOTUNE)\n",
    ")"
   ]
  },
  {
   "cell_type": "markdown",
   "id": "4c7f2511",
   "metadata": {},
   "source": [
    "**The simplest way to prevent overfitting is to start with a small model**"
   ]
  },
  {
   "cell_type": "markdown",
   "id": "621e6b66",
   "metadata": {},
   "source": [
    "## Training Procedure"
   ]
  },
  {
   "cell_type": "markdown",
   "id": "6b567540",
   "metadata": {},
   "source": [
    "**Many models train better if we gradually reduce the learning rate during training**"
   ]
  },
  {
   "cell_type": "markdown",
   "id": "fd058c71",
   "metadata": {},
   "source": [
    "The following code sets a `tf.keras.optimizers.schedules.InverseTimeDecay` to hyperbolically decrease the learning rate to 1/2 of the base rate at 1,000 epochs, 1/3 at 2,000 epochs, and so on."
   ]
  },
  {
   "cell_type": "markdown",
   "id": "6116e5ab",
   "metadata": {},
   "source": [
    "### Learning Rate Schedule and Callbacks"
   ]
  },
  {
   "cell_type": "code",
   "execution_count": 61,
   "id": "694e53d8",
   "metadata": {},
   "outputs": [],
   "source": [
    "lr_schedule = tf.keras.optimizers.schedules.InverseTimeDecay(\n",
    "  0.001,\n",
    "  decay_steps=STEPS_PER_EPOCH*1000,\n",
    "  decay_rate=1,\n",
    "  staircase=False)\n",
    "\n",
    "def get_optimizer():\n",
    "  return tf.keras.optimizers.Adam(lr_schedule)"
   ]
  },
  {
   "cell_type": "code",
   "execution_count": 62,
   "id": "a9fab167",
   "metadata": {},
   "outputs": [
    {
     "data": {
      "image/png": "[encoded data removed]",
      "text/plain": [
       "<Figure size 800x600 with 1 Axes>"
      ]
     },
     "metadata": {},
     "output_type": "display_data"
    }
   ],
   "source": [
    "step = np.linspace(0,100000)\n",
    "lr = lr_schedule(step)\n",
    "plt.figure(figsize = (8,6))\n",
    "plt.plot(step/STEPS_PER_EPOCH, lr)\n",
    "plt.ylim([0,max(plt.ylim())])\n",
    "plt.xlabel('Epoch')\n",
    "_ = plt.ylabel('Learning Rate')"
   ]
  },
  {
   "cell_type": "markdown",
   "id": "4599774f",
   "metadata": {},
   "source": [
    "#### Call backs\n",
    "* using the tfdocs.EpochDots which simply prints a `.` for each epoch, and a full set of metrics every 100 epochs,\n",
    "To reduce the logging noise .\n",
    "\n",
    "*  include `tf.keras.callbacks.EarlyStopping` to **avoid** long and unnecessary training times.\n",
    ">  this callback is set to monitor the `val_binary_crossentropy`, not the `val_loss`.\n",
    "\n",
    "* Use `callbacks.TensorBoard` to generate TensorBoard logs for the training."
   ]
  },
  {
   "cell_type": "code",
   "execution_count": null,
   "id": "ed2a5b5a",
   "metadata": {},
   "outputs": [],
   "source": [
    "def get_callbacks(name):\n",
    "  return [\n",
    "    tfdocs.modeling.EpochDots(),\n",
    "    tf.keras.callbacks.EarlyStopping(monitor='val_binary_crossentropy', patience=200),\n",
    "    tf.keras.callbacks.TensorBoard(logdir/name),\n",
    "  ]"
   ]
  },
  {
   "cell_type": "markdown",
   "id": "c6c9a6d7",
   "metadata": {},
   "source": [
    "### Compile and fit function"
   ]
  },
  {
   "cell_type": "code",
   "execution_count": 63,
   "id": "993f8f07",
   "metadata": {},
   "outputs": [],
   "source": [
    "def compile_and_fit(model, name, optimizer=None, max_epochs=10000):\n",
    "    if optimizer is None:\n",
    "        optimizer = get_optimizer()\n",
    "    model.compile(\n",
    "        optimizer=optimizer,\n",
    "        loss=tf.keras.losses.BinaryCrossentropy(from_logits=True),\n",
    "        metrics=[\n",
    "            tf.keras.metrics.BinaryCrossentropy(\n",
    "                from_logits=True, name='binary_crossentropy'),\n",
    "            'accuracy'\n",
    "        ]\n",
    "    )\n",
    "    model.summary()\n",
    "    history = model.fit(\n",
    "        train_ds,\n",
    "        steps_per_epoch=STEPS_PER_EPOCH,\n",
    "        epochs=max_epochs,\n",
    "        validation_data=validate_ds,\n",
    "        callbacks=get_callbacks(name),\n",
    "        verbose=0\n",
    "    )\n",
    "    return history"
   ]
  },
  {
   "cell_type": "markdown",
   "id": "f3be52cd",
   "metadata": {},
   "source": [
    "### Tiny Model\n",
    "\n",
    "the simplest way to avoid overfitting is to use a low capacity model."
   ]
  },
  {
   "cell_type": "code",
   "execution_count": 64,
   "id": "4811dd6f",
   "metadata": {},
   "outputs": [
    {
     "name": "stderr",
     "output_type": "stream",
     "text": [
      "c:\\Users\\mehri\\AppData\\Local\\Programs\\Python\\Python312\\Lib\\site-packages\\keras\\src\\layers\\reshaping\\flatten.py:37: UserWarning: Do not pass an `input_shape`/`input_dim` argument to a layer. When using Sequential models, prefer using an `Input(shape)` object as the first layer in the model instead.\n",
      "  super().__init__(**kwargs)\n"
     ]
    }
   ],
   "source": [
    "tiny_model = tf.keras.Sequential([\n",
    "    layers.Flatten(input_shape=(FEATURES, 1)),\n",
    "    layers.Dense(16, activation='elu'),\n",
    "    layers.Dense(1)\n",
    "])"
   ]
  },
  {
   "cell_type": "code",
   "execution_count": 65,
   "id": "347d5d29",
   "metadata": {},
   "outputs": [],
   "source": [
    "size_histories = {}"
   ]
  },
  {
   "cell_type": "code",
   "execution_count": 66,
   "id": "65fa5312",
   "metadata": {},
   "outputs": [
    {
     "data": {
      "text/html": [
       "<pre style=\"white-space:pre;overflow-x:auto;line-height:normal;font-family:Menlo,'DejaVu Sans Mono',consolas,'Courier New',monospace\"><span style=\"font-weight: bold\">Model: \"sequential_5\"</span>\n",
       "</pre>\n"
      ],
      "text/plain": [
       "\u001b[1mModel: \"sequential_5\"\u001b[0m\n"
      ]
     },
     "metadata": {},
     "output_type": "display_data"
    },
    {
     "data": {
      "text/html": [
       "<pre style=\"white-space:pre;overflow-x:auto;line-height:normal;font-family:Menlo,'DejaVu Sans Mono',consolas,'Courier New',monospace\">┏━━━━━━━━━━━━━━━━━━━━━━━━━━━━━━━━━┳━━━━━━━━━━━━━━━━━━━━━━━━┳━━━━━━━━━━━━━━━┓\n",
       "┃<span style=\"font-weight: bold\"> Layer (type)                    </span>┃<span style=\"font-weight: bold\"> Output Shape           </span>┃<span style=\"font-weight: bold\">       Param # </span>┃\n",
       "┡━━━━━━━━━━━━━━━━━━━━━━━━━━━━━━━━━╇━━━━━━━━━━━━━━━━━━━━━━━━╇━━━━━━━━━━━━━━━┩\n",
       "│ flatten_2 (<span style=\"color: #0087ff; text-decoration-color: #0087ff\">Flatten</span>)             │ (<span style=\"color: #00d7ff; text-decoration-color: #00d7ff\">None</span>, <span style=\"color: #00af00; text-decoration-color: #00af00\">28</span>)             │             <span style=\"color: #00af00; text-decoration-color: #00af00\">0</span> │\n",
       "├─────────────────────────────────┼────────────────────────┼───────────────┤\n",
       "│ dense_10 (<span style=\"color: #0087ff; text-decoration-color: #0087ff\">Dense</span>)                │ (<span style=\"color: #00d7ff; text-decoration-color: #00d7ff\">None</span>, <span style=\"color: #00af00; text-decoration-color: #00af00\">16</span>)             │           <span style=\"color: #00af00; text-decoration-color: #00af00\">464</span> │\n",
       "├─────────────────────────────────┼────────────────────────┼───────────────┤\n",
       "│ dense_11 (<span style=\"color: #0087ff; text-decoration-color: #0087ff\">Dense</span>)                │ (<span style=\"color: #00d7ff; text-decoration-color: #00d7ff\">None</span>, <span style=\"color: #00af00; text-decoration-color: #00af00\">1</span>)              │            <span style=\"color: #00af00; text-decoration-color: #00af00\">17</span> │\n",
       "└─────────────────────────────────┴────────────────────────┴───────────────┘\n",
       "</pre>\n"
      ],
      "text/plain": [
       "┏━━━━━━━━━━━━━━━━━━━━━━━━━━━━━━━━━┳━━━━━━━━━━━━━━━━━━━━━━━━┳━━━━━━━━━━━━━━━┓\n",
       "┃\u001b[1m \u001b[0m\u001b[1mLayer (type)                   \u001b[0m\u001b[1m \u001b[0m┃\u001b[1m \u001b[0m\u001b[1mOutput Shape          \u001b[0m\u001b[1m \u001b[0m┃\u001b[1m \u001b[0m\u001b[1m      Param #\u001b[0m\u001b[1m \u001b[0m┃\n",
       "┡━━━━━━━━━━━━━━━━━━━━━━━━━━━━━━━━━╇━━━━━━━━━━━━━━━━━━━━━━━━╇━━━━━━━━━━━━━━━┩\n",
       "│ flatten_2 (\u001b[38;5;33mFlatten\u001b[0m)             │ (\u001b[38;5;45mNone\u001b[0m, \u001b[38;5;34m28\u001b[0m)             │             \u001b[38;5;34m0\u001b[0m │\n",
       "├─────────────────────────────────┼────────────────────────┼───────────────┤\n",
       "│ dense_10 (\u001b[38;5;33mDense\u001b[0m)                │ (\u001b[38;5;45mNone\u001b[0m, \u001b[38;5;34m16\u001b[0m)             │           \u001b[38;5;34m464\u001b[0m │\n",
       "├─────────────────────────────────┼────────────────────────┼───────────────┤\n",
       "│ dense_11 (\u001b[38;5;33mDense\u001b[0m)                │ (\u001b[38;5;45mNone\u001b[0m, \u001b[38;5;34m1\u001b[0m)              │            \u001b[38;5;34m17\u001b[0m │\n",
       "└─────────────────────────────────┴────────────────────────┴───────────────┘\n"
      ]
     },
     "metadata": {},
     "output_type": "display_data"
    },
    {
     "data": {
      "text/html": [
       "<pre style=\"white-space:pre;overflow-x:auto;line-height:normal;font-family:Menlo,'DejaVu Sans Mono',consolas,'Courier New',monospace\"><span style=\"font-weight: bold\"> Total params: </span><span style=\"color: #00af00; text-decoration-color: #00af00\">481</span> (1.88 KB)\n",
       "</pre>\n"
      ],
      "text/plain": [
       "\u001b[1m Total params: \u001b[0m\u001b[38;5;34m481\u001b[0m (1.88 KB)\n"
      ]
     },
     "metadata": {},
     "output_type": "display_data"
    },
    {
     "data": {
      "text/html": [
       "<pre style=\"white-space:pre;overflow-x:auto;line-height:normal;font-family:Menlo,'DejaVu Sans Mono',consolas,'Courier New',monospace\"><span style=\"font-weight: bold\"> Trainable params: </span><span style=\"color: #00af00; text-decoration-color: #00af00\">481</span> (1.88 KB)\n",
       "</pre>\n"
      ],
      "text/plain": [
       "\u001b[1m Trainable params: \u001b[0m\u001b[38;5;34m481\u001b[0m (1.88 KB)\n"
      ]
     },
     "metadata": {},
     "output_type": "display_data"
    },
    {
     "data": {
      "text/html": [
       "<pre style=\"white-space:pre;overflow-x:auto;line-height:normal;font-family:Menlo,'DejaVu Sans Mono',consolas,'Courier New',monospace\"><span style=\"font-weight: bold\"> Non-trainable params: </span><span style=\"color: #00af00; text-decoration-color: #00af00\">0</span> (0.00 B)\n",
       "</pre>\n"
      ],
      "text/plain": [
       "\u001b[1m Non-trainable params: \u001b[0m\u001b[38;5;34m0\u001b[0m (0.00 B)\n"
      ]
     },
     "metadata": {},
     "output_type": "display_data"
    },
    {
     "name": "stdout",
     "output_type": "stream",
     "text": [
      "\n",
      "Epoch: 0, accuracy:0.5046,  binary_crossentropy:0.7621,  loss:0.7621,  val_accuracy:0.5040,  val_binary_crossentropy:0.7506,  val_loss:0.7506,  \n",
      ".."
     ]
    },
    {
     "name": "stderr",
     "output_type": "stream",
     "text": [
      "c:\\Users\\mehri\\AppData\\Local\\Programs\\Python\\Python312\\Lib\\site-packages\\keras\\src\\trainers\\epoch_iterator.py:151: UserWarning: Your input ran out of data; interrupting training. Make sure that your dataset or generator can generate at least `steps_per_epoch * epochs` batches. You may need to use the `.repeat()` function when building your dataset.\n",
      "  self._interrupted_warning()\n"
     ]
    },
    {
     "name": "stdout",
     "output_type": "stream",
     "text": [
      "..................................................................................................\n",
      "Epoch: 100, accuracy:0.5911,  binary_crossentropy:0.6325,  loss:0.6325,  val_accuracy:0.5850,  val_binary_crossentropy:0.6442,  val_loss:0.6442,  \n",
      "....................................................................................................\n",
      "Epoch: 200, accuracy:0.6148,  binary_crossentropy:0.6209,  loss:0.6209,  val_accuracy:0.6000,  val_binary_crossentropy:0.6363,  val_loss:0.6363,  \n",
      "....................................................................................................\n",
      "Epoch: 300, accuracy:0.6263,  binary_crossentropy:0.6135,  loss:0.6135,  val_accuracy:0.6120,  val_binary_crossentropy:0.6314,  val_loss:0.6314,  \n",
      "....................................................................................................\n",
      "Epoch: 400, accuracy:0.6358,  binary_crossentropy:0.6082,  loss:0.6082,  val_accuracy:0.6200,  val_binary_crossentropy:0.6280,  val_loss:0.6280,  \n",
      "....................................................................................................\n",
      "Epoch: 500, accuracy:0.6433,  binary_crossentropy:0.6037,  loss:0.6037,  val_accuracy:0.6330,  val_binary_crossentropy:0.6253,  val_loss:0.6253,  \n",
      "....................................................................................................\n",
      "Epoch: 600, accuracy:0.6487,  binary_crossentropy:0.5996,  loss:0.5996,  val_accuracy:0.6380,  val_binary_crossentropy:0.6223,  val_loss:0.6223,  \n",
      "....................................................................................................\n",
      "Epoch: 700, accuracy:0.6540,  binary_crossentropy:0.5958,  loss:0.5958,  val_accuracy:0.6400,  val_binary_crossentropy:0.6192,  val_loss:0.6192,  \n",
      "....................................................................................................\n",
      "Epoch: 800, accuracy:0.6580,  binary_crossentropy:0.5923,  loss:0.5923,  val_accuracy:0.6450,  val_binary_crossentropy:0.6164,  val_loss:0.6164,  \n",
      "....................................................................................................\n",
      "Epoch: 900, accuracy:0.6642,  binary_crossentropy:0.5893,  loss:0.5893,  val_accuracy:0.6410,  val_binary_crossentropy:0.6140,  val_loss:0.6140,  \n",
      "....................................................................................................\n",
      "Epoch: 1000, accuracy:0.6676,  binary_crossentropy:0.5868,  loss:0.5868,  val_accuracy:0.6400,  val_binary_crossentropy:0.6119,  val_loss:0.6119,  \n",
      "....................................................................................................\n",
      "Epoch: 1100, accuracy:0.6682,  binary_crossentropy:0.5848,  loss:0.5848,  val_accuracy:0.6420,  val_binary_crossentropy:0.6102,  val_loss:0.6102,  \n",
      "....................................................................................................\n",
      "Epoch: 1200, accuracy:0.6710,  binary_crossentropy:0.5830,  loss:0.5830,  val_accuracy:0.6500,  val_binary_crossentropy:0.6087,  val_loss:0.6087,  \n",
      "....................................................................................................\n",
      "Epoch: 1300, accuracy:0.6730,  binary_crossentropy:0.5815,  loss:0.5815,  val_accuracy:0.6580,  val_binary_crossentropy:0.6074,  val_loss:0.6074,  \n",
      "....................................................................................................\n",
      "Epoch: 1400, accuracy:0.6747,  binary_crossentropy:0.5802,  loss:0.5802,  val_accuracy:0.6600,  val_binary_crossentropy:0.6063,  val_loss:0.6063,  \n",
      "....................................................................................................\n",
      "Epoch: 1500, accuracy:0.6752,  binary_crossentropy:0.5790,  loss:0.5790,  val_accuracy:0.6610,  val_binary_crossentropy:0.6054,  val_loss:0.6054,  \n",
      "....................................................................................................\n",
      "Epoch: 1600, accuracy:0.6776,  binary_crossentropy:0.5779,  loss:0.5779,  val_accuracy:0.6620,  val_binary_crossentropy:0.6046,  val_loss:0.6046,  \n",
      "....................................................................................................\n",
      "Epoch: 1700, accuracy:0.6790,  binary_crossentropy:0.5770,  loss:0.5770,  val_accuracy:0.6640,  val_binary_crossentropy:0.6039,  val_loss:0.6039,  \n",
      "....................................................................................................\n",
      "Epoch: 1800, accuracy:0.6795,  binary_crossentropy:0.5761,  loss:0.5761,  val_accuracy:0.6670,  val_binary_crossentropy:0.6033,  val_loss:0.6033,  \n",
      "....................................................................................................\n",
      "Epoch: 1900, accuracy:0.6796,  binary_crossentropy:0.5753,  loss:0.5753,  val_accuracy:0.6690,  val_binary_crossentropy:0.6028,  val_loss:0.6028,  \n",
      "....................................................................................................\n",
      "Epoch: 2000, accuracy:0.6798,  binary_crossentropy:0.5746,  loss:0.5746,  val_accuracy:0.6700,  val_binary_crossentropy:0.6023,  val_loss:0.6023,  \n",
      "....................................................................................................\n",
      "Epoch: 2100, accuracy:0.6814,  binary_crossentropy:0.5739,  loss:0.5739,  val_accuracy:0.6710,  val_binary_crossentropy:0.6020,  val_loss:0.6020,  \n",
      "....................................................................................................\n",
      "Epoch: 2200, accuracy:0.6823,  binary_crossentropy:0.5732,  loss:0.5732,  val_accuracy:0.6720,  val_binary_crossentropy:0.6016,  val_loss:0.6016,  \n",
      "....................................................................................................\n",
      "Epoch: 2300, accuracy:0.6831,  binary_crossentropy:0.5726,  loss:0.5726,  val_accuracy:0.6750,  val_binary_crossentropy:0.6013,  val_loss:0.6013,  \n",
      "....................................................................................................\n",
      "Epoch: 2400, accuracy:0.6837,  binary_crossentropy:0.5720,  loss:0.5720,  val_accuracy:0.6760,  val_binary_crossentropy:0.6011,  val_loss:0.6011,  \n",
      "....................................................................................................\n",
      "Epoch: 2500, accuracy:0.6835,  binary_crossentropy:0.5714,  loss:0.5714,  val_accuracy:0.6740,  val_binary_crossentropy:0.6009,  val_loss:0.6009,  \n",
      "....................................................................................................\n",
      "Epoch: 2600, accuracy:0.6844,  binary_crossentropy:0.5709,  loss:0.5709,  val_accuracy:0.6710,  val_binary_crossentropy:0.6007,  val_loss:0.6007,  \n",
      "....................................................................................................\n",
      "Epoch: 2700, accuracy:0.6852,  binary_crossentropy:0.5704,  loss:0.5704,  val_accuracy:0.6700,  val_binary_crossentropy:0.6006,  val_loss:0.6006,  \n",
      "....................................................................................................\n",
      "Epoch: 2800, accuracy:0.6855,  binary_crossentropy:0.5699,  loss:0.5699,  val_accuracy:0.6690,  val_binary_crossentropy:0.6005,  val_loss:0.6005,  \n",
      "....................................................................................................\n",
      "Epoch: 2900, accuracy:0.6852,  binary_crossentropy:0.5694,  loss:0.5694,  val_accuracy:0.6680,  val_binary_crossentropy:0.6003,  val_loss:0.6003,  \n",
      "....................................................................................................\n",
      "Epoch: 3000, accuracy:0.6858,  binary_crossentropy:0.5690,  loss:0.5690,  val_accuracy:0.6680,  val_binary_crossentropy:0.6002,  val_loss:0.6002,  \n",
      "....................................................................................................\n",
      "Epoch: 3100, accuracy:0.6861,  binary_crossentropy:0.5685,  loss:0.5685,  val_accuracy:0.6690,  val_binary_crossentropy:0.6001,  val_loss:0.6001,  \n",
      "....................................................................................................\n",
      "Epoch: 3200, accuracy:0.6870,  binary_crossentropy:0.5681,  loss:0.5681,  val_accuracy:0.6700,  val_binary_crossentropy:0.6000,  val_loss:0.6000,  \n",
      "....................................................................................................\n",
      "Epoch: 3300, accuracy:0.6873,  binary_crossentropy:0.5677,  loss:0.5677,  val_accuracy:0.6740,  val_binary_crossentropy:0.5999,  val_loss:0.5999,  \n",
      "....................................................................................................\n",
      "Epoch: 3400, accuracy:0.6883,  binary_crossentropy:0.5674,  loss:0.5674,  val_accuracy:0.6740,  val_binary_crossentropy:0.5998,  val_loss:0.5998,  \n",
      "....................................................................................................\n",
      "Epoch: 3500, accuracy:0.6885,  binary_crossentropy:0.5670,  loss:0.5670,  val_accuracy:0.6740,  val_binary_crossentropy:0.5996,  val_loss:0.5996,  \n",
      "....................................................................................................\n",
      "Epoch: 3600, accuracy:0.6887,  binary_crossentropy:0.5666,  loss:0.5666,  val_accuracy:0.6730,  val_binary_crossentropy:0.5995,  val_loss:0.5995,  \n",
      "....................................................................................................\n",
      "Epoch: 3700, accuracy:0.6890,  binary_crossentropy:0.5663,  loss:0.5663,  val_accuracy:0.6720,  val_binary_crossentropy:0.5994,  val_loss:0.5994,  \n",
      "....................................................................................................\n",
      "Epoch: 3800, accuracy:0.6890,  binary_crossentropy:0.5660,  loss:0.5660,  val_accuracy:0.6710,  val_binary_crossentropy:0.5993,  val_loss:0.5993,  \n",
      "....................................................................................................\n",
      "Epoch: 3900, accuracy:0.6894,  binary_crossentropy:0.5657,  loss:0.5657,  val_accuracy:0.6710,  val_binary_crossentropy:0.5992,  val_loss:0.5992,  \n",
      "....................................................................................................\n",
      "Epoch: 4000, accuracy:0.6901,  binary_crossentropy:0.5654,  loss:0.5654,  val_accuracy:0.6730,  val_binary_crossentropy:0.5991,  val_loss:0.5991,  \n",
      "....................................................................................................\n",
      "Epoch: 4100, accuracy:0.6902,  binary_crossentropy:0.5651,  loss:0.5651,  val_accuracy:0.6720,  val_binary_crossentropy:0.5990,  val_loss:0.5990,  \n",
      "....................................................................................................\n",
      "Epoch: 4200, accuracy:0.6909,  binary_crossentropy:0.5648,  loss:0.5648,  val_accuracy:0.6750,  val_binary_crossentropy:0.5989,  val_loss:0.5989,  \n",
      "....................................................................................................\n",
      "Epoch: 4300, accuracy:0.6911,  binary_crossentropy:0.5645,  loss:0.5645,  val_accuracy:0.6760,  val_binary_crossentropy:0.5988,  val_loss:0.5988,  \n",
      "....................................................................................................\n",
      "Epoch: 4400, accuracy:0.6911,  binary_crossentropy:0.5642,  loss:0.5642,  val_accuracy:0.6760,  val_binary_crossentropy:0.5987,  val_loss:0.5987,  \n",
      "....................................................................................................\n",
      "Epoch: 4500, accuracy:0.6918,  binary_crossentropy:0.5639,  loss:0.5639,  val_accuracy:0.6760,  val_binary_crossentropy:0.5987,  val_loss:0.5987,  \n",
      "....................................................................................................\n",
      "Epoch: 4600, accuracy:0.6924,  binary_crossentropy:0.5636,  loss:0.5636,  val_accuracy:0.6770,  val_binary_crossentropy:0.5986,  val_loss:0.5986,  \n",
      "....................................................................................................\n",
      "Epoch: 4700, accuracy:0.6928,  binary_crossentropy:0.5633,  loss:0.5633,  val_accuracy:0.6760,  val_binary_crossentropy:0.5985,  val_loss:0.5985,  \n",
      "....................................................................................................\n",
      "Epoch: 4800, accuracy:0.6934,  binary_crossentropy:0.5631,  loss:0.5631,  val_accuracy:0.6770,  val_binary_crossentropy:0.5985,  val_loss:0.5985,  \n",
      "....................................................................................................\n",
      "Epoch: 4900, accuracy:0.6938,  binary_crossentropy:0.5628,  loss:0.5628,  val_accuracy:0.6770,  val_binary_crossentropy:0.5984,  val_loss:0.5984,  \n",
      "....................................................................................................\n",
      "Epoch: 5000, accuracy:0.6936,  binary_crossentropy:0.5625,  loss:0.5625,  val_accuracy:0.6760,  val_binary_crossentropy:0.5984,  val_loss:0.5984,  \n",
      "....................................................................................................\n",
      "Epoch: 5100, accuracy:0.6941,  binary_crossentropy:0.5623,  loss:0.5623,  val_accuracy:0.6770,  val_binary_crossentropy:0.5983,  val_loss:0.5983,  \n",
      "....................................................................................................\n",
      "Epoch: 5200, accuracy:0.6939,  binary_crossentropy:0.5620,  loss:0.5620,  val_accuracy:0.6750,  val_binary_crossentropy:0.5982,  val_loss:0.5982,  \n",
      "....................................................................................................\n",
      "Epoch: 5300, accuracy:0.6939,  binary_crossentropy:0.5618,  loss:0.5618,  val_accuracy:0.6770,  val_binary_crossentropy:0.5982,  val_loss:0.5982,  \n",
      "....................................................................................................\n",
      "Epoch: 5400, accuracy:0.6941,  binary_crossentropy:0.5616,  loss:0.5616,  val_accuracy:0.6760,  val_binary_crossentropy:0.5981,  val_loss:0.5981,  \n",
      "....................................................................................................\n",
      "Epoch: 5500, accuracy:0.6932,  binary_crossentropy:0.5613,  loss:0.5613,  val_accuracy:0.6770,  val_binary_crossentropy:0.5980,  val_loss:0.5980,  \n",
      "....................................................................................................\n",
      "Epoch: 5600, accuracy:0.6938,  binary_crossentropy:0.5611,  loss:0.5611,  val_accuracy:0.6780,  val_binary_crossentropy:0.5980,  val_loss:0.5980,  \n",
      "....................................................................................................\n",
      "Epoch: 5700, accuracy:0.6942,  binary_crossentropy:0.5608,  loss:0.5608,  val_accuracy:0.6780,  val_binary_crossentropy:0.5979,  val_loss:0.5979,  \n",
      "....................................................................................................\n",
      "Epoch: 5800, accuracy:0.6940,  binary_crossentropy:0.5606,  loss:0.5606,  val_accuracy:0.6790,  val_binary_crossentropy:0.5979,  val_loss:0.5979,  \n",
      "....................................................................................................\n",
      "Epoch: 5900, accuracy:0.6944,  binary_crossentropy:0.5604,  loss:0.5604,  val_accuracy:0.6790,  val_binary_crossentropy:0.5978,  val_loss:0.5978,  \n",
      "....................................................................................................\n",
      "Epoch: 6000, accuracy:0.6947,  binary_crossentropy:0.5601,  loss:0.5601,  val_accuracy:0.6780,  val_binary_crossentropy:0.5977,  val_loss:0.5977,  \n",
      "....................................................................................................\n",
      "Epoch: 6100, accuracy:0.6952,  binary_crossentropy:0.5599,  loss:0.5599,  val_accuracy:0.6760,  val_binary_crossentropy:0.5977,  val_loss:0.5977,  \n",
      "....................................................................................................\n",
      "Epoch: 6200, accuracy:0.6961,  binary_crossentropy:0.5597,  loss:0.5597,  val_accuracy:0.6760,  val_binary_crossentropy:0.5976,  val_loss:0.5976,  \n",
      "....................................................................................................\n",
      "Epoch: 6300, accuracy:0.6962,  binary_crossentropy:0.5595,  loss:0.5595,  val_accuracy:0.6760,  val_binary_crossentropy:0.5975,  val_loss:0.5975,  \n",
      "....................................................................................................\n",
      "Epoch: 6400, accuracy:0.6966,  binary_crossentropy:0.5592,  loss:0.5592,  val_accuracy:0.6760,  val_binary_crossentropy:0.5974,  val_loss:0.5974,  \n",
      "....................................................................................................\n",
      "Epoch: 6500, accuracy:0.6974,  binary_crossentropy:0.5590,  loss:0.5590,  val_accuracy:0.6770,  val_binary_crossentropy:0.5973,  val_loss:0.5973,  \n",
      "....................................................................................................\n",
      "Epoch: 6600, accuracy:0.6980,  binary_crossentropy:0.5588,  loss:0.5588,  val_accuracy:0.6780,  val_binary_crossentropy:0.5972,  val_loss:0.5972,  \n",
      "....................................................................................................\n",
      "Epoch: 6700, accuracy:0.6982,  binary_crossentropy:0.5586,  loss:0.5586,  val_accuracy:0.6770,  val_binary_crossentropy:0.5970,  val_loss:0.5970,  \n",
      "....................................................................................................\n",
      "Epoch: 6800, accuracy:0.6986,  binary_crossentropy:0.5584,  loss:0.5584,  val_accuracy:0.6770,  val_binary_crossentropy:0.5969,  val_loss:0.5969,  \n",
      "....................................................................................................\n",
      "Epoch: 6900, accuracy:0.6992,  binary_crossentropy:0.5582,  loss:0.5582,  val_accuracy:0.6770,  val_binary_crossentropy:0.5968,  val_loss:0.5968,  \n",
      "....................................................................................................\n",
      "Epoch: 7000, accuracy:0.6991,  binary_crossentropy:0.5580,  loss:0.5580,  val_accuracy:0.6780,  val_binary_crossentropy:0.5967,  val_loss:0.5967,  \n",
      "....................................................................................................\n",
      "Epoch: 7100, accuracy:0.6993,  binary_crossentropy:0.5578,  loss:0.5578,  val_accuracy:0.6790,  val_binary_crossentropy:0.5966,  val_loss:0.5966,  \n",
      "....................................................................................................\n",
      "Epoch: 7200, accuracy:0.6990,  binary_crossentropy:0.5576,  loss:0.5576,  val_accuracy:0.6800,  val_binary_crossentropy:0.5964,  val_loss:0.5964,  \n",
      "....................................................................................................\n",
      "Epoch: 7300, accuracy:0.6989,  binary_crossentropy:0.5574,  loss:0.5574,  val_accuracy:0.6800,  val_binary_crossentropy:0.5963,  val_loss:0.5963,  \n",
      "....................................................................................................\n",
      "Epoch: 7400, accuracy:0.6990,  binary_crossentropy:0.5572,  loss:0.5572,  val_accuracy:0.6780,  val_binary_crossentropy:0.5962,  val_loss:0.5962,  \n",
      "....................................................................................................\n",
      "Epoch: 7500, accuracy:0.6992,  binary_crossentropy:0.5571,  loss:0.5571,  val_accuracy:0.6790,  val_binary_crossentropy:0.5961,  val_loss:0.5961,  \n",
      "....................................................................................................\n",
      "Epoch: 7600, accuracy:0.6994,  binary_crossentropy:0.5569,  loss:0.5569,  val_accuracy:0.6790,  val_binary_crossentropy:0.5960,  val_loss:0.5960,  \n",
      "....................................................................................................\n",
      "Epoch: 7700, accuracy:0.6993,  binary_crossentropy:0.5567,  loss:0.5567,  val_accuracy:0.6790,  val_binary_crossentropy:0.5959,  val_loss:0.5959,  \n",
      "....................................................................................................\n",
      "Epoch: 7800, accuracy:0.6990,  binary_crossentropy:0.5565,  loss:0.5565,  val_accuracy:0.6790,  val_binary_crossentropy:0.5958,  val_loss:0.5958,  \n",
      "....................................................................................................\n",
      "Epoch: 7900, accuracy:0.6991,  binary_crossentropy:0.5564,  loss:0.5564,  val_accuracy:0.6780,  val_binary_crossentropy:0.5957,  val_loss:0.5957,  \n",
      "....................................................................................................\n",
      "Epoch: 8000, accuracy:0.6986,  binary_crossentropy:0.5562,  loss:0.5562,  val_accuracy:0.6770,  val_binary_crossentropy:0.5957,  val_loss:0.5957,  \n",
      "....................................................................................................\n",
      "Epoch: 8100, accuracy:0.6987,  binary_crossentropy:0.5561,  loss:0.5561,  val_accuracy:0.6780,  val_binary_crossentropy:0.5956,  val_loss:0.5956,  \n",
      "....................................................................................................\n",
      "Epoch: 8200, accuracy:0.6988,  binary_crossentropy:0.5559,  loss:0.5559,  val_accuracy:0.6780,  val_binary_crossentropy:0.5955,  val_loss:0.5955,  \n",
      "....................................................................................................\n",
      "Epoch: 8300, accuracy:0.6987,  binary_crossentropy:0.5557,  loss:0.5557,  val_accuracy:0.6780,  val_binary_crossentropy:0.5954,  val_loss:0.5954,  \n",
      "....................................................................................................\n",
      "Epoch: 8400, accuracy:0.6987,  binary_crossentropy:0.5556,  loss:0.5556,  val_accuracy:0.6780,  val_binary_crossentropy:0.5953,  val_loss:0.5953,  \n",
      "....................................................................................................\n",
      "Epoch: 8500, accuracy:0.6988,  binary_crossentropy:0.5554,  loss:0.5554,  val_accuracy:0.6780,  val_binary_crossentropy:0.5953,  val_loss:0.5953,  \n",
      "....................................................................................................\n",
      "Epoch: 8600, accuracy:0.6996,  binary_crossentropy:0.5553,  loss:0.5553,  val_accuracy:0.6780,  val_binary_crossentropy:0.5952,  val_loss:0.5952,  \n",
      "....................................................................................................\n",
      "Epoch: 8700, accuracy:0.7000,  binary_crossentropy:0.5551,  loss:0.5551,  val_accuracy:0.6790,  val_binary_crossentropy:0.5951,  val_loss:0.5951,  \n",
      "....................................................................................................\n",
      "Epoch: 8800, accuracy:0.6999,  binary_crossentropy:0.5550,  loss:0.5550,  val_accuracy:0.6790,  val_binary_crossentropy:0.5950,  val_loss:0.5950,  \n",
      "....................................................................................................\n",
      "Epoch: 8900, accuracy:0.6998,  binary_crossentropy:0.5548,  loss:0.5548,  val_accuracy:0.6790,  val_binary_crossentropy:0.5949,  val_loss:0.5949,  \n",
      "....................................................................................................\n",
      "Epoch: 9000, accuracy:0.6998,  binary_crossentropy:0.5547,  loss:0.5547,  val_accuracy:0.6800,  val_binary_crossentropy:0.5949,  val_loss:0.5949,  \n",
      "....................................................................................................\n",
      "Epoch: 9100, accuracy:0.6999,  binary_crossentropy:0.5546,  loss:0.5546,  val_accuracy:0.6780,  val_binary_crossentropy:0.5948,  val_loss:0.5948,  \n",
      "....................................................................................................\n",
      "Epoch: 9200, accuracy:0.7000,  binary_crossentropy:0.5544,  loss:0.5544,  val_accuracy:0.6780,  val_binary_crossentropy:0.5947,  val_loss:0.5947,  \n",
      "....................................................................................................\n",
      "Epoch: 9300, accuracy:0.7000,  binary_crossentropy:0.5543,  loss:0.5543,  val_accuracy:0.6780,  val_binary_crossentropy:0.5947,  val_loss:0.5947,  \n",
      "....................................................................................................\n",
      "Epoch: 9400, accuracy:0.7000,  binary_crossentropy:0.5542,  loss:0.5542,  val_accuracy:0.6790,  val_binary_crossentropy:0.5946,  val_loss:0.5946,  \n",
      "....................................................................................................\n",
      "Epoch: 9500, accuracy:0.7002,  binary_crossentropy:0.5540,  loss:0.5540,  val_accuracy:0.6790,  val_binary_crossentropy:0.5945,  val_loss:0.5945,  \n",
      "....................................................................................................\n",
      "Epoch: 9600, accuracy:0.7002,  binary_crossentropy:0.5539,  loss:0.5539,  val_accuracy:0.6800,  val_binary_crossentropy:0.5945,  val_loss:0.5945,  \n",
      "....................................................................................................\n",
      "Epoch: 9700, accuracy:0.7003,  binary_crossentropy:0.5538,  loss:0.5538,  val_accuracy:0.6800,  val_binary_crossentropy:0.5944,  val_loss:0.5944,  \n",
      "....................................................................................................\n",
      "Epoch: 9800, accuracy:0.7002,  binary_crossentropy:0.5537,  loss:0.5537,  val_accuracy:0.6800,  val_binary_crossentropy:0.5944,  val_loss:0.5944,  \n",
      "....................................................................................................\n",
      "Epoch: 9900, accuracy:0.7005,  binary_crossentropy:0.5535,  loss:0.5535,  val_accuracy:0.6800,  val_binary_crossentropy:0.5943,  val_loss:0.5943,  \n",
      "...................................................................................................."
     ]
    }
   ],
   "source": [
    "size_histories['Tiny'] = compile_and_fit(tiny_model, 'sizes/Tiny')"
   ]
  },
  {
   "cell_type": "code",
   "execution_count": 103,
   "id": "6e0ba667",
   "metadata": {},
   "outputs": [
    {
     "data": {
      "text/plain": [
       "(0.0, 0.7)"
      ]
     },
     "execution_count": 103,
     "metadata": {},
     "output_type": "execute_result"
    },
    {
     "data": {
      "image/png": "[encoded data removed]",
      "text/plain": [
       "<Figure size 640x480 with 1 Axes>"
      ]
     },
     "metadata": {},
     "output_type": "display_data"
    }
   ],
   "source": [
    "plotter = tfdocs.plots.HistoryPlotter(metric = 'binary_crossentropy', smoothing_std=10)\n",
    "plotter.plot(size_histories)\n",
    "plt.ylim([0.0, 0.7])"
   ]
  },
  {
   "cell_type": "markdown",
   "id": "81c59925",
   "metadata": {},
   "source": [
    "### Small model\n",
    "To check if you can beat the performance of the small model, progressively train some larger models.\n",
    "\n"
   ]
  },
  {
   "cell_type": "code",
   "execution_count": 68,
   "id": "3eea7c5f",
   "metadata": {},
   "outputs": [],
   "source": [
    "small_model = tf.keras.Sequential([\n",
    "    layers.Flatten(input_shape=(FEATURES, 1)),\n",
    "    layers.Dense(16, activation='elu'),\n",
    "    layers.Dense(16, activation='elu'),\n",
    "    layers.Dense(1)\n",
    "])"
   ]
  },
  {
   "cell_type": "code",
   "execution_count": 69,
   "id": "7fc43937",
   "metadata": {},
   "outputs": [
    {
     "data": {
      "text/html": [
       "<pre style=\"white-space:pre;overflow-x:auto;line-height:normal;font-family:Menlo,'DejaVu Sans Mono',consolas,'Courier New',monospace\"><span style=\"font-weight: bold\">Model: \"sequential_6\"</span>\n",
       "</pre>\n"
      ],
      "text/plain": [
       "\u001b[1mModel: \"sequential_6\"\u001b[0m\n"
      ]
     },
     "metadata": {},
     "output_type": "display_data"
    },
    {
     "data": {
      "text/html": [
       "<pre style=\"white-space:pre;overflow-x:auto;line-height:normal;font-family:Menlo,'DejaVu Sans Mono',consolas,'Courier New',monospace\">┏━━━━━━━━━━━━━━━━━━━━━━━━━━━━━━━━━┳━━━━━━━━━━━━━━━━━━━━━━━━┳━━━━━━━━━━━━━━━┓\n",
       "┃<span style=\"font-weight: bold\"> Layer (type)                    </span>┃<span style=\"font-weight: bold\"> Output Shape           </span>┃<span style=\"font-weight: bold\">       Param # </span>┃\n",
       "┡━━━━━━━━━━━━━━━━━━━━━━━━━━━━━━━━━╇━━━━━━━━━━━━━━━━━━━━━━━━╇━━━━━━━━━━━━━━━┩\n",
       "│ flatten_3 (<span style=\"color: #0087ff; text-decoration-color: #0087ff\">Flatten</span>)             │ (<span style=\"color: #00d7ff; text-decoration-color: #00d7ff\">None</span>, <span style=\"color: #00af00; text-decoration-color: #00af00\">28</span>)             │             <span style=\"color: #00af00; text-decoration-color: #00af00\">0</span> │\n",
       "├─────────────────────────────────┼────────────────────────┼───────────────┤\n",
       "│ dense_12 (<span style=\"color: #0087ff; text-decoration-color: #0087ff\">Dense</span>)                │ (<span style=\"color: #00d7ff; text-decoration-color: #00d7ff\">None</span>, <span style=\"color: #00af00; text-decoration-color: #00af00\">16</span>)             │           <span style=\"color: #00af00; text-decoration-color: #00af00\">464</span> │\n",
       "├─────────────────────────────────┼────────────────────────┼───────────────┤\n",
       "│ dense_13 (<span style=\"color: #0087ff; text-decoration-color: #0087ff\">Dense</span>)                │ (<span style=\"color: #00d7ff; text-decoration-color: #00d7ff\">None</span>, <span style=\"color: #00af00; text-decoration-color: #00af00\">16</span>)             │           <span style=\"color: #00af00; text-decoration-color: #00af00\">272</span> │\n",
       "├─────────────────────────────────┼────────────────────────┼───────────────┤\n",
       "│ dense_14 (<span style=\"color: #0087ff; text-decoration-color: #0087ff\">Dense</span>)                │ (<span style=\"color: #00d7ff; text-decoration-color: #00d7ff\">None</span>, <span style=\"color: #00af00; text-decoration-color: #00af00\">1</span>)              │            <span style=\"color: #00af00; text-decoration-color: #00af00\">17</span> │\n",
       "└─────────────────────────────────┴────────────────────────┴───────────────┘\n",
       "</pre>\n"
      ],
      "text/plain": [
       "┏━━━━━━━━━━━━━━━━━━━━━━━━━━━━━━━━━┳━━━━━━━━━━━━━━━━━━━━━━━━┳━━━━━━━━━━━━━━━┓\n",
       "┃\u001b[1m \u001b[0m\u001b[1mLayer (type)                   \u001b[0m\u001b[1m \u001b[0m┃\u001b[1m \u001b[0m\u001b[1mOutput Shape          \u001b[0m\u001b[1m \u001b[0m┃\u001b[1m \u001b[0m\u001b[1m      Param #\u001b[0m\u001b[1m \u001b[0m┃\n",
       "┡━━━━━━━━━━━━━━━━━━━━━━━━━━━━━━━━━╇━━━━━━━━━━━━━━━━━━━━━━━━╇━━━━━━━━━━━━━━━┩\n",
       "│ flatten_3 (\u001b[38;5;33mFlatten\u001b[0m)             │ (\u001b[38;5;45mNone\u001b[0m, \u001b[38;5;34m28\u001b[0m)             │             \u001b[38;5;34m0\u001b[0m │\n",
       "├─────────────────────────────────┼────────────────────────┼───────────────┤\n",
       "│ dense_12 (\u001b[38;5;33mDense\u001b[0m)                │ (\u001b[38;5;45mNone\u001b[0m, \u001b[38;5;34m16\u001b[0m)             │           \u001b[38;5;34m464\u001b[0m │\n",
       "├─────────────────────────────────┼────────────────────────┼───────────────┤\n",
       "│ dense_13 (\u001b[38;5;33mDense\u001b[0m)                │ (\u001b[38;5;45mNone\u001b[0m, \u001b[38;5;34m16\u001b[0m)             │           \u001b[38;5;34m272\u001b[0m │\n",
       "├─────────────────────────────────┼────────────────────────┼───────────────┤\n",
       "│ dense_14 (\u001b[38;5;33mDense\u001b[0m)                │ (\u001b[38;5;45mNone\u001b[0m, \u001b[38;5;34m1\u001b[0m)              │            \u001b[38;5;34m17\u001b[0m │\n",
       "└─────────────────────────────────┴────────────────────────┴───────────────┘\n"
      ]
     },
     "metadata": {},
     "output_type": "display_data"
    },
    {
     "data": {
      "text/html": [
       "<pre style=\"white-space:pre;overflow-x:auto;line-height:normal;font-family:Menlo,'DejaVu Sans Mono',consolas,'Courier New',monospace\"><span style=\"font-weight: bold\"> Total params: </span><span style=\"color: #00af00; text-decoration-color: #00af00\">753</span> (2.94 KB)\n",
       "</pre>\n"
      ],
      "text/plain": [
       "\u001b[1m Total params: \u001b[0m\u001b[38;5;34m753\u001b[0m (2.94 KB)\n"
      ]
     },
     "metadata": {},
     "output_type": "display_data"
    },
    {
     "data": {
      "text/html": [
       "<pre style=\"white-space:pre;overflow-x:auto;line-height:normal;font-family:Menlo,'DejaVu Sans Mono',consolas,'Courier New',monospace\"><span style=\"font-weight: bold\"> Trainable params: </span><span style=\"color: #00af00; text-decoration-color: #00af00\">753</span> (2.94 KB)\n",
       "</pre>\n"
      ],
      "text/plain": [
       "\u001b[1m Trainable params: \u001b[0m\u001b[38;5;34m753\u001b[0m (2.94 KB)\n"
      ]
     },
     "metadata": {},
     "output_type": "display_data"
    },
    {
     "data": {
      "text/html": [
       "<pre style=\"white-space:pre;overflow-x:auto;line-height:normal;font-family:Menlo,'DejaVu Sans Mono',consolas,'Courier New',monospace\"><span style=\"font-weight: bold\"> Non-trainable params: </span><span style=\"color: #00af00; text-decoration-color: #00af00\">0</span> (0.00 B)\n",
       "</pre>\n"
      ],
      "text/plain": [
       "\u001b[1m Non-trainable params: \u001b[0m\u001b[38;5;34m0\u001b[0m (0.00 B)\n"
      ]
     },
     "metadata": {},
     "output_type": "display_data"
    },
    {
     "name": "stdout",
     "output_type": "stream",
     "text": [
      "\n",
      "Epoch: 0, accuracy:0.4726,  binary_crossentropy:0.7606,  loss:0.7606,  val_accuracy:0.4870,  val_binary_crossentropy:0.7137,  val_loss:0.7137,  \n",
      "....................................................................................................\n",
      "Epoch: 100, accuracy:0.5913,  binary_crossentropy:0.6297,  loss:0.6297,  val_accuracy:0.5830,  val_binary_crossentropy:0.6415,  val_loss:0.6415,  \n",
      "....................................................................................................\n",
      "Epoch: 200, accuracy:0.6189,  binary_crossentropy:0.6141,  loss:0.6141,  val_accuracy:0.6060,  val_binary_crossentropy:0.6305,  val_loss:0.6305,  \n",
      "....................................................................................................\n",
      "Epoch: 300, accuracy:0.6469,  binary_crossentropy:0.5984,  loss:0.5984,  val_accuracy:0.6230,  val_binary_crossentropy:0.6175,  val_loss:0.6175,  \n",
      "....................................................................................................\n",
      "Epoch: 400, accuracy:0.6670,  binary_crossentropy:0.5863,  loss:0.5863,  val_accuracy:0.6470,  val_binary_crossentropy:0.6072,  val_loss:0.6072,  \n",
      "....................................................................................................\n",
      "Epoch: 500, accuracy:0.6761,  binary_crossentropy:0.5788,  loss:0.5788,  val_accuracy:0.6530,  val_binary_crossentropy:0.6034,  val_loss:0.6034,  \n",
      "....................................................................................................\n",
      "Epoch: 600, accuracy:0.6823,  binary_crossentropy:0.5731,  loss:0.5731,  val_accuracy:0.6630,  val_binary_crossentropy:0.6016,  val_loss:0.6016,  \n",
      "....................................................................................................\n",
      "Epoch: 700, accuracy:0.6885,  binary_crossentropy:0.5687,  loss:0.5687,  val_accuracy:0.6680,  val_binary_crossentropy:0.6000,  val_loss:0.6000,  \n",
      "....................................................................................................\n",
      "Epoch: 800, accuracy:0.6936,  binary_crossentropy:0.5652,  loss:0.5652,  val_accuracy:0.6690,  val_binary_crossentropy:0.5979,  val_loss:0.5979,  \n",
      "....................................................................................................\n",
      "Epoch: 900, accuracy:0.6962,  binary_crossentropy:0.5622,  loss:0.5622,  val_accuracy:0.6700,  val_binary_crossentropy:0.5955,  val_loss:0.5955,  \n",
      "....................................................................................................\n",
      "Epoch: 1000, accuracy:0.6974,  binary_crossentropy:0.5595,  loss:0.5595,  val_accuracy:0.6750,  val_binary_crossentropy:0.5930,  val_loss:0.5930,  \n",
      "....................................................................................................\n",
      "Epoch: 1100, accuracy:0.6997,  binary_crossentropy:0.5573,  loss:0.5573,  val_accuracy:0.6800,  val_binary_crossentropy:0.5907,  val_loss:0.5907,  \n",
      "....................................................................................................\n",
      "Epoch: 1200, accuracy:0.7015,  binary_crossentropy:0.5553,  loss:0.5553,  val_accuracy:0.6790,  val_binary_crossentropy:0.5888,  val_loss:0.5888,  \n",
      "....................................................................................................\n",
      "Epoch: 1300, accuracy:0.7027,  binary_crossentropy:0.5535,  loss:0.5535,  val_accuracy:0.6850,  val_binary_crossentropy:0.5873,  val_loss:0.5873,  \n",
      "....................................................................................................\n",
      "Epoch: 1400, accuracy:0.7048,  binary_crossentropy:0.5518,  loss:0.5518,  val_accuracy:0.6860,  val_binary_crossentropy:0.5861,  val_loss:0.5861,  \n",
      "....................................................................................................\n",
      "Epoch: 1500, accuracy:0.7056,  binary_crossentropy:0.5502,  loss:0.5502,  val_accuracy:0.6840,  val_binary_crossentropy:0.5853,  val_loss:0.5853,  \n",
      "....................................................................................................\n",
      "Epoch: 1600, accuracy:0.7058,  binary_crossentropy:0.5487,  loss:0.5487,  val_accuracy:0.6830,  val_binary_crossentropy:0.5847,  val_loss:0.5847,  \n",
      "....................................................................................................\n",
      "Epoch: 1700, accuracy:0.7055,  binary_crossentropy:0.5473,  loss:0.5473,  val_accuracy:0.6840,  val_binary_crossentropy:0.5842,  val_loss:0.5842,  \n",
      "....................................................................................................\n",
      "Epoch: 1800, accuracy:0.7072,  binary_crossentropy:0.5461,  loss:0.5461,  val_accuracy:0.6810,  val_binary_crossentropy:0.5838,  val_loss:0.5838,  \n",
      "....................................................................................................\n",
      "Epoch: 1900, accuracy:0.7091,  binary_crossentropy:0.5450,  loss:0.5450,  val_accuracy:0.6810,  val_binary_crossentropy:0.5834,  val_loss:0.5834,  \n",
      "....................................................................................................\n",
      "Epoch: 2000, accuracy:0.7109,  binary_crossentropy:0.5439,  loss:0.5439,  val_accuracy:0.6830,  val_binary_crossentropy:0.5830,  val_loss:0.5830,  \n",
      "....................................................................................................\n",
      "Epoch: 2100, accuracy:0.7113,  binary_crossentropy:0.5430,  loss:0.5430,  val_accuracy:0.6840,  val_binary_crossentropy:0.5827,  val_loss:0.5827,  \n",
      "....................................................................................................\n",
      "Epoch: 2200, accuracy:0.7122,  binary_crossentropy:0.5422,  loss:0.5422,  val_accuracy:0.6900,  val_binary_crossentropy:0.5824,  val_loss:0.5824,  \n",
      "....................................................................................................\n",
      "Epoch: 2300, accuracy:0.7125,  binary_crossentropy:0.5413,  loss:0.5413,  val_accuracy:0.6910,  val_binary_crossentropy:0.5821,  val_loss:0.5821,  \n",
      "....................................................................................................\n",
      "Epoch: 2400, accuracy:0.7116,  binary_crossentropy:0.5406,  loss:0.5406,  val_accuracy:0.6890,  val_binary_crossentropy:0.5819,  val_loss:0.5819,  \n",
      "....................................................................................................\n",
      "Epoch: 2500, accuracy:0.7113,  binary_crossentropy:0.5398,  loss:0.5398,  val_accuracy:0.6870,  val_binary_crossentropy:0.5816,  val_loss:0.5816,  \n",
      "....................................................................................................\n",
      "Epoch: 2600, accuracy:0.7114,  binary_crossentropy:0.5391,  loss:0.5391,  val_accuracy:0.6840,  val_binary_crossentropy:0.5813,  val_loss:0.5813,  \n",
      "....................................................................................................\n",
      "Epoch: 2700, accuracy:0.7108,  binary_crossentropy:0.5384,  loss:0.5384,  val_accuracy:0.6880,  val_binary_crossentropy:0.5809,  val_loss:0.5809,  \n",
      "....................................................................................................\n",
      "Epoch: 2800, accuracy:0.7108,  binary_crossentropy:0.5378,  loss:0.5378,  val_accuracy:0.6870,  val_binary_crossentropy:0.5806,  val_loss:0.5806,  \n",
      "....................................................................................................\n",
      "Epoch: 2900, accuracy:0.7115,  binary_crossentropy:0.5372,  loss:0.5372,  val_accuracy:0.6900,  val_binary_crossentropy:0.5803,  val_loss:0.5803,  \n",
      "....................................................................................................\n",
      "Epoch: 3000, accuracy:0.7126,  binary_crossentropy:0.5366,  loss:0.5366,  val_accuracy:0.6930,  val_binary_crossentropy:0.5799,  val_loss:0.5799,  \n",
      "....................................................................................................\n",
      "Epoch: 3100, accuracy:0.7127,  binary_crossentropy:0.5360,  loss:0.5360,  val_accuracy:0.6940,  val_binary_crossentropy:0.5795,  val_loss:0.5795,  \n",
      "....................................................................................................\n",
      "Epoch: 3200, accuracy:0.7125,  binary_crossentropy:0.5354,  loss:0.5354,  val_accuracy:0.6950,  val_binary_crossentropy:0.5791,  val_loss:0.5791,  \n",
      "....................................................................................................\n",
      "Epoch: 3300, accuracy:0.7128,  binary_crossentropy:0.5348,  loss:0.5348,  val_accuracy:0.6960,  val_binary_crossentropy:0.5787,  val_loss:0.5787,  \n",
      "....................................................................................................\n",
      "Epoch: 3400, accuracy:0.7138,  binary_crossentropy:0.5343,  loss:0.5343,  val_accuracy:0.6990,  val_binary_crossentropy:0.5784,  val_loss:0.5784,  \n",
      "....................................................................................................\n",
      "Epoch: 3500, accuracy:0.7147,  binary_crossentropy:0.5338,  loss:0.5338,  val_accuracy:0.6980,  val_binary_crossentropy:0.5780,  val_loss:0.5780,  \n",
      "....................................................................................................\n",
      "Epoch: 3600, accuracy:0.7157,  binary_crossentropy:0.5333,  loss:0.5333,  val_accuracy:0.6990,  val_binary_crossentropy:0.5777,  val_loss:0.5777,  \n",
      "....................................................................................................\n",
      "Epoch: 3700, accuracy:0.7167,  binary_crossentropy:0.5328,  loss:0.5328,  val_accuracy:0.6970,  val_binary_crossentropy:0.5775,  val_loss:0.5775,  \n",
      "....................................................................................................\n",
      "Epoch: 3800, accuracy:0.7175,  binary_crossentropy:0.5323,  loss:0.5323,  val_accuracy:0.6970,  val_binary_crossentropy:0.5773,  val_loss:0.5773,  \n",
      "....................................................................................................\n",
      "Epoch: 3900, accuracy:0.7170,  binary_crossentropy:0.5319,  loss:0.5319,  val_accuracy:0.6970,  val_binary_crossentropy:0.5771,  val_loss:0.5771,  \n",
      "....................................................................................................\n",
      "Epoch: 4000, accuracy:0.7175,  binary_crossentropy:0.5315,  loss:0.5315,  val_accuracy:0.6980,  val_binary_crossentropy:0.5770,  val_loss:0.5770,  \n",
      "....................................................................................................\n",
      "Epoch: 4100, accuracy:0.7185,  binary_crossentropy:0.5311,  loss:0.5311,  val_accuracy:0.6970,  val_binary_crossentropy:0.5769,  val_loss:0.5769,  \n",
      "....................................................................................................\n",
      "Epoch: 4200, accuracy:0.7191,  binary_crossentropy:0.5307,  loss:0.5307,  val_accuracy:0.6960,  val_binary_crossentropy:0.5768,  val_loss:0.5768,  \n",
      "....................................................................................................\n",
      "Epoch: 4300, accuracy:0.7197,  binary_crossentropy:0.5303,  loss:0.5303,  val_accuracy:0.6970,  val_binary_crossentropy:0.5767,  val_loss:0.5767,  \n",
      "....................................................................................................\n",
      "Epoch: 4400, accuracy:0.7195,  binary_crossentropy:0.5299,  loss:0.5299,  val_accuracy:0.6970,  val_binary_crossentropy:0.5767,  val_loss:0.5767,  \n",
      "....................................................................................................\n",
      "Epoch: 4500, accuracy:0.7197,  binary_crossentropy:0.5296,  loss:0.5296,  val_accuracy:0.6980,  val_binary_crossentropy:0.5766,  val_loss:0.5766,  \n",
      "....................................................................................................\n",
      "Epoch: 4600, accuracy:0.7204,  binary_crossentropy:0.5292,  loss:0.5292,  val_accuracy:0.7020,  val_binary_crossentropy:0.5765,  val_loss:0.5765,  \n",
      "....................................................................................................\n",
      "Epoch: 4700, accuracy:0.7211,  binary_crossentropy:0.5289,  loss:0.5289,  val_accuracy:0.7030,  val_binary_crossentropy:0.5764,  val_loss:0.5764,  \n",
      "....................................................................................................\n",
      "Epoch: 4800, accuracy:0.7215,  binary_crossentropy:0.5286,  loss:0.5286,  val_accuracy:0.7040,  val_binary_crossentropy:0.5763,  val_loss:0.5763,  \n",
      "....................................................................................................\n",
      "Epoch: 4900, accuracy:0.7222,  binary_crossentropy:0.5283,  loss:0.5283,  val_accuracy:0.7050,  val_binary_crossentropy:0.5762,  val_loss:0.5762,  \n",
      "....................................................................................................\n",
      "Epoch: 5000, accuracy:0.7221,  binary_crossentropy:0.5280,  loss:0.5280,  val_accuracy:0.7040,  val_binary_crossentropy:0.5762,  val_loss:0.5762,  \n",
      "....................................................................................................\n",
      "Epoch: 5100, accuracy:0.7219,  binary_crossentropy:0.5277,  loss:0.5277,  val_accuracy:0.7030,  val_binary_crossentropy:0.5761,  val_loss:0.5761,  \n",
      "....................................................................................................\n",
      "Epoch: 5200, accuracy:0.7231,  binary_crossentropy:0.5274,  loss:0.5274,  val_accuracy:0.7020,  val_binary_crossentropy:0.5761,  val_loss:0.5761,  \n",
      "....................................................................................................\n",
      "Epoch: 5300, accuracy:0.7236,  binary_crossentropy:0.5271,  loss:0.5271,  val_accuracy:0.7030,  val_binary_crossentropy:0.5760,  val_loss:0.5760,  \n",
      "....................................................................................................\n",
      "Epoch: 5400, accuracy:0.7232,  binary_crossentropy:0.5269,  loss:0.5269,  val_accuracy:0.7030,  val_binary_crossentropy:0.5760,  val_loss:0.5760,  \n",
      "....................................................................................................\n",
      "Epoch: 5500, accuracy:0.7235,  binary_crossentropy:0.5266,  loss:0.5266,  val_accuracy:0.7030,  val_binary_crossentropy:0.5760,  val_loss:0.5760,  \n",
      "....................................................................................................\n",
      "Epoch: 5600, accuracy:0.7240,  binary_crossentropy:0.5264,  loss:0.5264,  val_accuracy:0.7030,  val_binary_crossentropy:0.5759,  val_loss:0.5759,  \n",
      "....................................................................................................\n",
      "Epoch: 5700, accuracy:0.7247,  binary_crossentropy:0.5261,  loss:0.5261,  val_accuracy:0.7030,  val_binary_crossentropy:0.5758,  val_loss:0.5758,  \n",
      "....................................................................................................\n",
      "Epoch: 5800, accuracy:0.7256,  binary_crossentropy:0.5259,  loss:0.5259,  val_accuracy:0.7030,  val_binary_crossentropy:0.5758,  val_loss:0.5758,  \n",
      "....................................................................................................\n",
      "Epoch: 5900, accuracy:0.7256,  binary_crossentropy:0.5257,  loss:0.5257,  val_accuracy:0.7020,  val_binary_crossentropy:0.5757,  val_loss:0.5757,  \n",
      "....................................................................................................\n",
      "Epoch: 6000, accuracy:0.7253,  binary_crossentropy:0.5254,  loss:0.5254,  val_accuracy:0.7020,  val_binary_crossentropy:0.5756,  val_loss:0.5756,  \n",
      "....................................................................................................\n",
      "Epoch: 6100, accuracy:0.7246,  binary_crossentropy:0.5252,  loss:0.5252,  val_accuracy:0.7010,  val_binary_crossentropy:0.5756,  val_loss:0.5756,  \n",
      "....................................................................................................\n",
      "Epoch: 6200, accuracy:0.7246,  binary_crossentropy:0.5250,  loss:0.5250,  val_accuracy:0.7010,  val_binary_crossentropy:0.5755,  val_loss:0.5755,  \n",
      "....................................................................................................\n",
      "Epoch: 6300, accuracy:0.7251,  binary_crossentropy:0.5248,  loss:0.5248,  val_accuracy:0.7010,  val_binary_crossentropy:0.5754,  val_loss:0.5754,  \n",
      "....................................................................................................\n",
      "Epoch: 6400, accuracy:0.7254,  binary_crossentropy:0.5246,  loss:0.5246,  val_accuracy:0.7010,  val_binary_crossentropy:0.5753,  val_loss:0.5753,  \n",
      "....................................................................................................\n",
      "Epoch: 6500, accuracy:0.7261,  binary_crossentropy:0.5244,  loss:0.5244,  val_accuracy:0.7020,  val_binary_crossentropy:0.5752,  val_loss:0.5752,  \n",
      "....................................................................................................\n",
      "Epoch: 6600, accuracy:0.7270,  binary_crossentropy:0.5242,  loss:0.5242,  val_accuracy:0.7030,  val_binary_crossentropy:0.5750,  val_loss:0.5750,  \n",
      "....................................................................................................\n",
      "Epoch: 6700, accuracy:0.7272,  binary_crossentropy:0.5240,  loss:0.5240,  val_accuracy:0.7050,  val_binary_crossentropy:0.5749,  val_loss:0.5749,  \n",
      "....................................................................................................\n",
      "Epoch: 6800, accuracy:0.7274,  binary_crossentropy:0.5238,  loss:0.5238,  val_accuracy:0.7060,  val_binary_crossentropy:0.5748,  val_loss:0.5748,  \n",
      "....................................................................................................\n",
      "Epoch: 6900, accuracy:0.7275,  binary_crossentropy:0.5236,  loss:0.5236,  val_accuracy:0.7060,  val_binary_crossentropy:0.5747,  val_loss:0.5747,  \n",
      "....................................................................................................\n",
      "Epoch: 7000, accuracy:0.7276,  binary_crossentropy:0.5234,  loss:0.5234,  val_accuracy:0.7070,  val_binary_crossentropy:0.5745,  val_loss:0.5745,  \n",
      "....................................................................................................\n",
      "Epoch: 7100, accuracy:0.7281,  binary_crossentropy:0.5232,  loss:0.5232,  val_accuracy:0.7060,  val_binary_crossentropy:0.5744,  val_loss:0.5744,  \n",
      "....................................................................................................\n",
      "Epoch: 7200, accuracy:0.7287,  binary_crossentropy:0.5231,  loss:0.5231,  val_accuracy:0.7060,  val_binary_crossentropy:0.5743,  val_loss:0.5743,  \n",
      "....................................................................................................\n",
      "Epoch: 7300, accuracy:0.7287,  binary_crossentropy:0.5229,  loss:0.5229,  val_accuracy:0.7050,  val_binary_crossentropy:0.5742,  val_loss:0.5742,  \n",
      "....................................................................................................\n",
      "Epoch: 7400, accuracy:0.7292,  binary_crossentropy:0.5227,  loss:0.5227,  val_accuracy:0.7040,  val_binary_crossentropy:0.5740,  val_loss:0.5740,  \n",
      "....................................................................................................\n",
      "Epoch: 7500, accuracy:0.7300,  binary_crossentropy:0.5226,  loss:0.5226,  val_accuracy:0.7040,  val_binary_crossentropy:0.5739,  val_loss:0.5739,  \n",
      "....................................................................................................\n",
      "Epoch: 7600, accuracy:0.7297,  binary_crossentropy:0.5224,  loss:0.5224,  val_accuracy:0.7050,  val_binary_crossentropy:0.5738,  val_loss:0.5738,  \n",
      "....................................................................................................\n",
      "Epoch: 7700, accuracy:0.7296,  binary_crossentropy:0.5223,  loss:0.5223,  val_accuracy:0.7060,  val_binary_crossentropy:0.5737,  val_loss:0.5737,  \n",
      "....................................................................................................\n",
      "Epoch: 7800, accuracy:0.7295,  binary_crossentropy:0.5221,  loss:0.5221,  val_accuracy:0.7070,  val_binary_crossentropy:0.5736,  val_loss:0.5736,  \n",
      "....................................................................................................\n",
      "Epoch: 7900, accuracy:0.7296,  binary_crossentropy:0.5220,  loss:0.5220,  val_accuracy:0.7060,  val_binary_crossentropy:0.5735,  val_loss:0.5735,  \n",
      "....................................................................................................\n",
      "Epoch: 8000, accuracy:0.7296,  binary_crossentropy:0.5218,  loss:0.5218,  val_accuracy:0.7060,  val_binary_crossentropy:0.5734,  val_loss:0.5734,  \n",
      "....................................................................................................\n",
      "Epoch: 8100, accuracy:0.7295,  binary_crossentropy:0.5217,  loss:0.5217,  val_accuracy:0.7050,  val_binary_crossentropy:0.5733,  val_loss:0.5733,  \n",
      "....................................................................................................\n",
      "Epoch: 8200, accuracy:0.7298,  binary_crossentropy:0.5215,  loss:0.5215,  val_accuracy:0.7050,  val_binary_crossentropy:0.5732,  val_loss:0.5732,  \n",
      "....................................................................................................\n",
      "Epoch: 8300, accuracy:0.7294,  binary_crossentropy:0.5214,  loss:0.5214,  val_accuracy:0.7050,  val_binary_crossentropy:0.5731,  val_loss:0.5731,  \n",
      "....................................................................................................\n",
      "Epoch: 8400, accuracy:0.7288,  binary_crossentropy:0.5213,  loss:0.5213,  val_accuracy:0.7060,  val_binary_crossentropy:0.5730,  val_loss:0.5730,  \n",
      "....................................................................................................\n",
      "Epoch: 8500, accuracy:0.7284,  binary_crossentropy:0.5211,  loss:0.5211,  val_accuracy:0.7050,  val_binary_crossentropy:0.5730,  val_loss:0.5730,  \n",
      "....................................................................................................\n",
      "Epoch: 8600, accuracy:0.7281,  binary_crossentropy:0.5210,  loss:0.5210,  val_accuracy:0.7030,  val_binary_crossentropy:0.5729,  val_loss:0.5729,  \n",
      "....................................................................................................\n",
      "Epoch: 8700, accuracy:0.7279,  binary_crossentropy:0.5209,  loss:0.5209,  val_accuracy:0.7040,  val_binary_crossentropy:0.5728,  val_loss:0.5728,  \n",
      "....................................................................................................\n",
      "Epoch: 8800, accuracy:0.7280,  binary_crossentropy:0.5208,  loss:0.5208,  val_accuracy:0.7050,  val_binary_crossentropy:0.5728,  val_loss:0.5728,  \n",
      "....................................................................................................\n",
      "Epoch: 8900, accuracy:0.7278,  binary_crossentropy:0.5207,  loss:0.5207,  val_accuracy:0.7060,  val_binary_crossentropy:0.5727,  val_loss:0.5727,  \n",
      "....................................................................................................\n",
      "Epoch: 9000, accuracy:0.7277,  binary_crossentropy:0.5205,  loss:0.5205,  val_accuracy:0.7060,  val_binary_crossentropy:0.5726,  val_loss:0.5726,  \n",
      "....................................................................................................\n",
      "Epoch: 9100, accuracy:0.7281,  binary_crossentropy:0.5204,  loss:0.5204,  val_accuracy:0.7060,  val_binary_crossentropy:0.5726,  val_loss:0.5726,  \n",
      "....................................................................................................\n",
      "Epoch: 9200, accuracy:0.7283,  binary_crossentropy:0.5203,  loss:0.5203,  val_accuracy:0.7040,  val_binary_crossentropy:0.5725,  val_loss:0.5725,  \n",
      "....................................................................................................\n",
      "Epoch: 9300, accuracy:0.7285,  binary_crossentropy:0.5202,  loss:0.5202,  val_accuracy:0.7050,  val_binary_crossentropy:0.5725,  val_loss:0.5725,  \n",
      "....................................................................................................\n",
      "Epoch: 9400, accuracy:0.7287,  binary_crossentropy:0.5201,  loss:0.5201,  val_accuracy:0.7050,  val_binary_crossentropy:0.5724,  val_loss:0.5724,  \n",
      "....................................................................................................\n",
      "Epoch: 9500, accuracy:0.7289,  binary_crossentropy:0.5200,  loss:0.5200,  val_accuracy:0.7060,  val_binary_crossentropy:0.5724,  val_loss:0.5724,  \n",
      "....................................................................................................\n",
      "Epoch: 9600, accuracy:0.7288,  binary_crossentropy:0.5199,  loss:0.5199,  val_accuracy:0.7070,  val_binary_crossentropy:0.5723,  val_loss:0.5723,  \n",
      "....................................................................................................\n",
      "Epoch: 9700, accuracy:0.7290,  binary_crossentropy:0.5198,  loss:0.5198,  val_accuracy:0.7060,  val_binary_crossentropy:0.5723,  val_loss:0.5723,  \n",
      "....................................................................................................\n",
      "Epoch: 9800, accuracy:0.7289,  binary_crossentropy:0.5197,  loss:0.5197,  val_accuracy:0.7050,  val_binary_crossentropy:0.5723,  val_loss:0.5723,  \n",
      "....................................................................................................\n",
      "Epoch: 9900, accuracy:0.7293,  binary_crossentropy:0.5196,  loss:0.5196,  val_accuracy:0.7050,  val_binary_crossentropy:0.5722,  val_loss:0.5722,  \n",
      "...................................................................................................."
     ]
    }
   ],
   "source": [
    "size_histories['Small'] = compile_and_fit(small_model, 'sizes/Small')"
   ]
  },
  {
   "cell_type": "markdown",
   "id": "1a6c7042",
   "metadata": {},
   "source": [
    "### Medium model\n",
    "\n",
    "Now try three hidden layers with 64 units each:"
   ]
  },
  {
   "cell_type": "code",
   "execution_count": 75,
   "id": "eef45e8e",
   "metadata": {},
   "outputs": [],
   "source": [
    "medium_model = tf.keras.Sequential([\n",
    "    layers.Flatten(input_shape=(FEATURES, 1)),\n",
    "    layers.Dense(64, activation='elu', input_shape=(FEATURES,)),\n",
    "    layers.Dense(64, activation='elu'),\n",
    "    layers.Dense(64, activation='elu'),\n",
    "    layers.Dense(1)\n",
    "])"
   ]
  },
  {
   "cell_type": "code",
   "execution_count": 76,
   "id": "adbdbf83",
   "metadata": {},
   "outputs": [
    {
     "data": {
      "text/html": [
       "<pre style=\"white-space:pre;overflow-x:auto;line-height:normal;font-family:Menlo,'DejaVu Sans Mono',consolas,'Courier New',monospace\"><span style=\"font-weight: bold\">Model: \"sequential_9\"</span>\n",
       "</pre>\n"
      ],
      "text/plain": [
       "\u001b[1mModel: \"sequential_9\"\u001b[0m\n"
      ]
     },
     "metadata": {},
     "output_type": "display_data"
    },
    {
     "data": {
      "text/html": [
       "<pre style=\"white-space:pre;overflow-x:auto;line-height:normal;font-family:Menlo,'DejaVu Sans Mono',consolas,'Courier New',monospace\">┏━━━━━━━━━━━━━━━━━━━━━━━━━━━━━━━━━┳━━━━━━━━━━━━━━━━━━━━━━━━┳━━━━━━━━━━━━━━━┓\n",
       "┃<span style=\"font-weight: bold\"> Layer (type)                    </span>┃<span style=\"font-weight: bold\"> Output Shape           </span>┃<span style=\"font-weight: bold\">       Param # </span>┃\n",
       "┡━━━━━━━━━━━━━━━━━━━━━━━━━━━━━━━━━╇━━━━━━━━━━━━━━━━━━━━━━━━╇━━━━━━━━━━━━━━━┩\n",
       "│ flatten_6 (<span style=\"color: #0087ff; text-decoration-color: #0087ff\">Flatten</span>)             │ (<span style=\"color: #00d7ff; text-decoration-color: #00d7ff\">None</span>, <span style=\"color: #00af00; text-decoration-color: #00af00\">28</span>)             │             <span style=\"color: #00af00; text-decoration-color: #00af00\">0</span> │\n",
       "├─────────────────────────────────┼────────────────────────┼───────────────┤\n",
       "│ dense_24 (<span style=\"color: #0087ff; text-decoration-color: #0087ff\">Dense</span>)                │ (<span style=\"color: #00d7ff; text-decoration-color: #00d7ff\">None</span>, <span style=\"color: #00af00; text-decoration-color: #00af00\">64</span>)             │         <span style=\"color: #00af00; text-decoration-color: #00af00\">1,856</span> │\n",
       "├─────────────────────────────────┼────────────────────────┼───────────────┤\n",
       "│ dense_25 (<span style=\"color: #0087ff; text-decoration-color: #0087ff\">Dense</span>)                │ (<span style=\"color: #00d7ff; text-decoration-color: #00d7ff\">None</span>, <span style=\"color: #00af00; text-decoration-color: #00af00\">64</span>)             │         <span style=\"color: #00af00; text-decoration-color: #00af00\">4,160</span> │\n",
       "├─────────────────────────────────┼────────────────────────┼───────────────┤\n",
       "│ dense_26 (<span style=\"color: #0087ff; text-decoration-color: #0087ff\">Dense</span>)                │ (<span style=\"color: #00d7ff; text-decoration-color: #00d7ff\">None</span>, <span style=\"color: #00af00; text-decoration-color: #00af00\">64</span>)             │         <span style=\"color: #00af00; text-decoration-color: #00af00\">4,160</span> │\n",
       "├─────────────────────────────────┼────────────────────────┼───────────────┤\n",
       "│ dense_27 (<span style=\"color: #0087ff; text-decoration-color: #0087ff\">Dense</span>)                │ (<span style=\"color: #00d7ff; text-decoration-color: #00d7ff\">None</span>, <span style=\"color: #00af00; text-decoration-color: #00af00\">1</span>)              │            <span style=\"color: #00af00; text-decoration-color: #00af00\">65</span> │\n",
       "└─────────────────────────────────┴────────────────────────┴───────────────┘\n",
       "</pre>\n"
      ],
      "text/plain": [
       "┏━━━━━━━━━━━━━━━━━━━━━━━━━━━━━━━━━┳━━━━━━━━━━━━━━━━━━━━━━━━┳━━━━━━━━━━━━━━━┓\n",
       "┃\u001b[1m \u001b[0m\u001b[1mLayer (type)                   \u001b[0m\u001b[1m \u001b[0m┃\u001b[1m \u001b[0m\u001b[1mOutput Shape          \u001b[0m\u001b[1m \u001b[0m┃\u001b[1m \u001b[0m\u001b[1m      Param #\u001b[0m\u001b[1m \u001b[0m┃\n",
       "┡━━━━━━━━━━━━━━━━━━━━━━━━━━━━━━━━━╇━━━━━━━━━━━━━━━━━━━━━━━━╇━━━━━━━━━━━━━━━┩\n",
       "│ flatten_6 (\u001b[38;5;33mFlatten\u001b[0m)             │ (\u001b[38;5;45mNone\u001b[0m, \u001b[38;5;34m28\u001b[0m)             │             \u001b[38;5;34m0\u001b[0m │\n",
       "├─────────────────────────────────┼────────────────────────┼───────────────┤\n",
       "│ dense_24 (\u001b[38;5;33mDense\u001b[0m)                │ (\u001b[38;5;45mNone\u001b[0m, \u001b[38;5;34m64\u001b[0m)             │         \u001b[38;5;34m1,856\u001b[0m │\n",
       "├─────────────────────────────────┼────────────────────────┼───────────────┤\n",
       "│ dense_25 (\u001b[38;5;33mDense\u001b[0m)                │ (\u001b[38;5;45mNone\u001b[0m, \u001b[38;5;34m64\u001b[0m)             │         \u001b[38;5;34m4,160\u001b[0m │\n",
       "├─────────────────────────────────┼────────────────────────┼───────────────┤\n",
       "│ dense_26 (\u001b[38;5;33mDense\u001b[0m)                │ (\u001b[38;5;45mNone\u001b[0m, \u001b[38;5;34m64\u001b[0m)             │         \u001b[38;5;34m4,160\u001b[0m │\n",
       "├─────────────────────────────────┼────────────────────────┼───────────────┤\n",
       "│ dense_27 (\u001b[38;5;33mDense\u001b[0m)                │ (\u001b[38;5;45mNone\u001b[0m, \u001b[38;5;34m1\u001b[0m)              │            \u001b[38;5;34m65\u001b[0m │\n",
       "└─────────────────────────────────┴────────────────────────┴───────────────┘\n"
      ]
     },
     "metadata": {},
     "output_type": "display_data"
    },
    {
     "data": {
      "text/html": [
       "<pre style=\"white-space:pre;overflow-x:auto;line-height:normal;font-family:Menlo,'DejaVu Sans Mono',consolas,'Courier New',monospace\"><span style=\"font-weight: bold\"> Total params: </span><span style=\"color: #00af00; text-decoration-color: #00af00\">10,241</span> (40.00 KB)\n",
       "</pre>\n"
      ],
      "text/plain": [
       "\u001b[1m Total params: \u001b[0m\u001b[38;5;34m10,241\u001b[0m (40.00 KB)\n"
      ]
     },
     "metadata": {},
     "output_type": "display_data"
    },
    {
     "data": {
      "text/html": [
       "<pre style=\"white-space:pre;overflow-x:auto;line-height:normal;font-family:Menlo,'DejaVu Sans Mono',consolas,'Courier New',monospace\"><span style=\"font-weight: bold\"> Trainable params: </span><span style=\"color: #00af00; text-decoration-color: #00af00\">10,241</span> (40.00 KB)\n",
       "</pre>\n"
      ],
      "text/plain": [
       "\u001b[1m Trainable params: \u001b[0m\u001b[38;5;34m10,241\u001b[0m (40.00 KB)\n"
      ]
     },
     "metadata": {},
     "output_type": "display_data"
    },
    {
     "data": {
      "text/html": [
       "<pre style=\"white-space:pre;overflow-x:auto;line-height:normal;font-family:Menlo,'DejaVu Sans Mono',consolas,'Courier New',monospace\"><span style=\"font-weight: bold\"> Non-trainable params: </span><span style=\"color: #00af00; text-decoration-color: #00af00\">0</span> (0.00 B)\n",
       "</pre>\n"
      ],
      "text/plain": [
       "\u001b[1m Non-trainable params: \u001b[0m\u001b[38;5;34m0\u001b[0m (0.00 B)\n"
      ]
     },
     "metadata": {},
     "output_type": "display_data"
    },
    {
     "name": "stdout",
     "output_type": "stream",
     "text": [
      "\n",
      "Epoch: 0, accuracy:0.4872,  binary_crossentropy:0.7244,  loss:0.7244,  val_accuracy:0.4760,  val_binary_crossentropy:0.6887,  val_loss:0.6887,  \n",
      "....................................................................................................\n",
      "Epoch: 100, accuracy:0.6763,  binary_crossentropy:0.5798,  loss:0.5798,  val_accuracy:0.6500,  val_binary_crossentropy:0.6078,  val_loss:0.6078,  \n",
      "....................................................................................................\n",
      "Epoch: 200, accuracy:0.7159,  binary_crossentropy:0.5346,  loss:0.5346,  val_accuracy:0.6690,  val_binary_crossentropy:0.5864,  val_loss:0.5864,  \n",
      "....................................................................................................\n",
      "Epoch: 300, accuracy:0.7501,  binary_crossentropy:0.4877,  loss:0.4877,  val_accuracy:0.6890,  val_binary_crossentropy:0.5709,  val_loss:0.5709,  \n",
      "....................................................................................................\n",
      "Epoch: 400, accuracy:0.7826,  binary_crossentropy:0.4356,  loss:0.4356,  val_accuracy:0.7150,  val_binary_crossentropy:0.5582,  val_loss:0.5582,  \n",
      "....................................................................................................\n",
      "Epoch: 500, accuracy:0.8157,  binary_crossentropy:0.3823,  loss:0.3823,  val_accuracy:0.7320,  val_binary_crossentropy:0.5535,  val_loss:0.5535,  \n",
      "....................................................................................................\n",
      "Epoch: 600, accuracy:0.8461,  binary_crossentropy:0.3311,  loss:0.3311,  val_accuracy:0.7550,  val_binary_crossentropy:0.5560,  val_loss:0.5560,  \n",
      "....................................................................................................\n",
      "Epoch: 700, accuracy:0.8714,  binary_crossentropy:0.2843,  loss:0.2843,  val_accuracy:0.7670,  val_binary_crossentropy:0.5698,  val_loss:0.5698,  \n",
      "..."
     ]
    }
   ],
   "source": [
    "# And train the model using the same data:\n",
    "\n",
    "size_histories['Medium']  = compile_and_fit(medium_model, \"sizes/Medium\")"
   ]
  },
  {
   "cell_type": "markdown",
   "id": "4be8ef21",
   "metadata": {},
   "source": [
    "### Large model\n",
    "\n",
    "creating an even larger model and check how quickly it begins overfitting."
   ]
  },
  {
   "cell_type": "code",
   "execution_count": 73,
   "id": "372641a2",
   "metadata": {},
   "outputs": [],
   "source": [
    "large_model = tf.keras.Sequential([\n",
    "    layers.Flatten(input_shape=(FEATURES, 1)),\n",
    "    layers.Dense(512, activation='elu'),\n",
    "    layers.Dense(512, activation='elu'),\n",
    "    layers.Dense(512, activation='elu'),\n",
    "    layers.Dense(512, activation='elu'),\n",
    "    layers.Dense(1)\n",
    "])"
   ]
  },
  {
   "cell_type": "code",
   "execution_count": 74,
   "id": "223c3081",
   "metadata": {},
   "outputs": [
    {
     "data": {
      "text/html": [
       "<pre style=\"white-space:pre;overflow-x:auto;line-height:normal;font-family:Menlo,'DejaVu Sans Mono',consolas,'Courier New',monospace\"><span style=\"font-weight: bold\">Model: \"sequential_8\"</span>\n",
       "</pre>\n"
      ],
      "text/plain": [
       "\u001b[1mModel: \"sequential_8\"\u001b[0m\n"
      ]
     },
     "metadata": {},
     "output_type": "display_data"
    },
    {
     "data": {
      "text/html": [
       "<pre style=\"white-space:pre;overflow-x:auto;line-height:normal;font-family:Menlo,'DejaVu Sans Mono',consolas,'Courier New',monospace\">┏━━━━━━━━━━━━━━━━━━━━━━━━━━━━━━━━━┳━━━━━━━━━━━━━━━━━━━━━━━━┳━━━━━━━━━━━━━━━┓\n",
       "┃<span style=\"font-weight: bold\"> Layer (type)                    </span>┃<span style=\"font-weight: bold\"> Output Shape           </span>┃<span style=\"font-weight: bold\">       Param # </span>┃\n",
       "┡━━━━━━━━━━━━━━━━━━━━━━━━━━━━━━━━━╇━━━━━━━━━━━━━━━━━━━━━━━━╇━━━━━━━━━━━━━━━┩\n",
       "│ flatten_5 (<span style=\"color: #0087ff; text-decoration-color: #0087ff\">Flatten</span>)             │ (<span style=\"color: #00d7ff; text-decoration-color: #00d7ff\">None</span>, <span style=\"color: #00af00; text-decoration-color: #00af00\">28</span>)             │             <span style=\"color: #00af00; text-decoration-color: #00af00\">0</span> │\n",
       "├─────────────────────────────────┼────────────────────────┼───────────────┤\n",
       "│ dense_19 (<span style=\"color: #0087ff; text-decoration-color: #0087ff\">Dense</span>)                │ (<span style=\"color: #00d7ff; text-decoration-color: #00d7ff\">None</span>, <span style=\"color: #00af00; text-decoration-color: #00af00\">512</span>)            │        <span style=\"color: #00af00; text-decoration-color: #00af00\">14,848</span> │\n",
       "├─────────────────────────────────┼────────────────────────┼───────────────┤\n",
       "│ dense_20 (<span style=\"color: #0087ff; text-decoration-color: #0087ff\">Dense</span>)                │ (<span style=\"color: #00d7ff; text-decoration-color: #00d7ff\">None</span>, <span style=\"color: #00af00; text-decoration-color: #00af00\">512</span>)            │       <span style=\"color: #00af00; text-decoration-color: #00af00\">262,656</span> │\n",
       "├─────────────────────────────────┼────────────────────────┼───────────────┤\n",
       "│ dense_21 (<span style=\"color: #0087ff; text-decoration-color: #0087ff\">Dense</span>)                │ (<span style=\"color: #00d7ff; text-decoration-color: #00d7ff\">None</span>, <span style=\"color: #00af00; text-decoration-color: #00af00\">512</span>)            │       <span style=\"color: #00af00; text-decoration-color: #00af00\">262,656</span> │\n",
       "├─────────────────────────────────┼────────────────────────┼───────────────┤\n",
       "│ dense_22 (<span style=\"color: #0087ff; text-decoration-color: #0087ff\">Dense</span>)                │ (<span style=\"color: #00d7ff; text-decoration-color: #00d7ff\">None</span>, <span style=\"color: #00af00; text-decoration-color: #00af00\">512</span>)            │       <span style=\"color: #00af00; text-decoration-color: #00af00\">262,656</span> │\n",
       "├─────────────────────────────────┼────────────────────────┼───────────────┤\n",
       "│ dense_23 (<span style=\"color: #0087ff; text-decoration-color: #0087ff\">Dense</span>)                │ (<span style=\"color: #00d7ff; text-decoration-color: #00d7ff\">None</span>, <span style=\"color: #00af00; text-decoration-color: #00af00\">1</span>)              │           <span style=\"color: #00af00; text-decoration-color: #00af00\">513</span> │\n",
       "└─────────────────────────────────┴────────────────────────┴───────────────┘\n",
       "</pre>\n"
      ],
      "text/plain": [
       "┏━━━━━━━━━━━━━━━━━━━━━━━━━━━━━━━━━┳━━━━━━━━━━━━━━━━━━━━━━━━┳━━━━━━━━━━━━━━━┓\n",
       "┃\u001b[1m \u001b[0m\u001b[1mLayer (type)                   \u001b[0m\u001b[1m \u001b[0m┃\u001b[1m \u001b[0m\u001b[1mOutput Shape          \u001b[0m\u001b[1m \u001b[0m┃\u001b[1m \u001b[0m\u001b[1m      Param #\u001b[0m\u001b[1m \u001b[0m┃\n",
       "┡━━━━━━━━━━━━━━━━━━━━━━━━━━━━━━━━━╇━━━━━━━━━━━━━━━━━━━━━━━━╇━━━━━━━━━━━━━━━┩\n",
       "│ flatten_5 (\u001b[38;5;33mFlatten\u001b[0m)             │ (\u001b[38;5;45mNone\u001b[0m, \u001b[38;5;34m28\u001b[0m)             │             \u001b[38;5;34m0\u001b[0m │\n",
       "├─────────────────────────────────┼────────────────────────┼───────────────┤\n",
       "│ dense_19 (\u001b[38;5;33mDense\u001b[0m)                │ (\u001b[38;5;45mNone\u001b[0m, \u001b[38;5;34m512\u001b[0m)            │        \u001b[38;5;34m14,848\u001b[0m │\n",
       "├─────────────────────────────────┼────────────────────────┼───────────────┤\n",
       "│ dense_20 (\u001b[38;5;33mDense\u001b[0m)                │ (\u001b[38;5;45mNone\u001b[0m, \u001b[38;5;34m512\u001b[0m)            │       \u001b[38;5;34m262,656\u001b[0m │\n",
       "├─────────────────────────────────┼────────────────────────┼───────────────┤\n",
       "│ dense_21 (\u001b[38;5;33mDense\u001b[0m)                │ (\u001b[38;5;45mNone\u001b[0m, \u001b[38;5;34m512\u001b[0m)            │       \u001b[38;5;34m262,656\u001b[0m │\n",
       "├─────────────────────────────────┼────────────────────────┼───────────────┤\n",
       "│ dense_22 (\u001b[38;5;33mDense\u001b[0m)                │ (\u001b[38;5;45mNone\u001b[0m, \u001b[38;5;34m512\u001b[0m)            │       \u001b[38;5;34m262,656\u001b[0m │\n",
       "├─────────────────────────────────┼────────────────────────┼───────────────┤\n",
       "│ dense_23 (\u001b[38;5;33mDense\u001b[0m)                │ (\u001b[38;5;45mNone\u001b[0m, \u001b[38;5;34m1\u001b[0m)              │           \u001b[38;5;34m513\u001b[0m │\n",
       "└─────────────────────────────────┴────────────────────────┴───────────────┘\n"
      ]
     },
     "metadata": {},
     "output_type": "display_data"
    },
    {
     "data": {
      "text/html": [
       "<pre style=\"white-space:pre;overflow-x:auto;line-height:normal;font-family:Menlo,'DejaVu Sans Mono',consolas,'Courier New',monospace\"><span style=\"font-weight: bold\"> Total params: </span><span style=\"color: #00af00; text-decoration-color: #00af00\">803,329</span> (3.06 MB)\n",
       "</pre>\n"
      ],
      "text/plain": [
       "\u001b[1m Total params: \u001b[0m\u001b[38;5;34m803,329\u001b[0m (3.06 MB)\n"
      ]
     },
     "metadata": {},
     "output_type": "display_data"
    },
    {
     "data": {
      "text/html": [
       "<pre style=\"white-space:pre;overflow-x:auto;line-height:normal;font-family:Menlo,'DejaVu Sans Mono',consolas,'Courier New',monospace\"><span style=\"font-weight: bold\"> Trainable params: </span><span style=\"color: #00af00; text-decoration-color: #00af00\">803,329</span> (3.06 MB)\n",
       "</pre>\n"
      ],
      "text/plain": [
       "\u001b[1m Trainable params: \u001b[0m\u001b[38;5;34m803,329\u001b[0m (3.06 MB)\n"
      ]
     },
     "metadata": {},
     "output_type": "display_data"
    },
    {
     "data": {
      "text/html": [
       "<pre style=\"white-space:pre;overflow-x:auto;line-height:normal;font-family:Menlo,'DejaVu Sans Mono',consolas,'Courier New',monospace\"><span style=\"font-weight: bold\"> Non-trainable params: </span><span style=\"color: #00af00; text-decoration-color: #00af00\">0</span> (0.00 B)\n",
       "</pre>\n"
      ],
      "text/plain": [
       "\u001b[1m Non-trainable params: \u001b[0m\u001b[38;5;34m0\u001b[0m (0.00 B)\n"
      ]
     },
     "metadata": {},
     "output_type": "display_data"
    },
    {
     "name": "stdout",
     "output_type": "stream",
     "text": [
      "\n",
      "Epoch: 0, accuracy:0.4969,  binary_crossentropy:0.7823,  loss:0.7823,  val_accuracy:0.5280,  val_binary_crossentropy:0.6724,  val_loss:0.6724,  \n",
      "....................................................................................................\n",
      "Epoch: 100, accuracy:0.8471,  binary_crossentropy:0.3312,  loss:0.3312,  val_accuracy:0.7300,  val_binary_crossentropy:0.6180,  val_loss:0.6180,  \n",
      "....................................................................................................\n",
      "Epoch: 200, accuracy:0.9514,  binary_crossentropy:0.1164,  loss:0.1164,  val_accuracy:0.7960,  val_binary_crossentropy:0.8606,  val_loss:0.8606,  \n",
      "................................................................................."
     ]
    }
   ],
   "source": [
    "size_histories['large'] = compile_and_fit(large_model, \"sizes/large\")"
   ]
  },
  {
   "cell_type": "markdown",
   "id": "65a7acf5",
   "metadata": {},
   "source": [
    "## Plot the training and validation losses\n",
    "\n",
    "The solid lines show the training loss, and the dashed lines show the validation loss (remember: a lower validation loss indicates a better model)\n",
    "\n",
    "While building a larger model gives it more power, if this power is not constrained somehow it can easily overfit to the training set.\n",
    "\n",
    "* It's normal for there to be a small difference.\n",
    "* If both metrics are moving in the same direction, everything is fine.\n",
    "* If the validation metric begins to stagnate while the training metric continues to improve, you are probably close to overfitting.\n",
    "* If the validation metric is going in the wrong direction, the model is clearly overfitting."
   ]
  },
  {
   "cell_type": "code",
   "execution_count": 78,
   "id": "5be95b58",
   "metadata": {},
   "outputs": [
    {
     "name": "stdout",
     "output_type": "stream",
     "text": [
      "{'Tiny': <keras.src.callbacks.history.History object at 0x00000173739F49B0>, 'Small': <keras.src.callbacks.history.History object at 0x00000173741ACE60>, 'Medium': <keras.src.callbacks.history.History object at 0x0000017312067050>, 'large': <keras.src.callbacks.history.History object at 0x000001736DE10920>}\n"
     ]
    }
   ],
   "source": [
    "print(size_histories)"
   ]
  },
  {
   "cell_type": "code",
   "execution_count": 98,
   "id": "4496f321",
   "metadata": {},
   "outputs": [
    {
     "data": {
      "text/plain": [
       "Text(0.5, 0, 'Epochs [Log Scale]')"
      ]
     },
     "execution_count": 98,
     "metadata": {},
     "output_type": "execute_result"
    },
    {
     "data": {
      "image/png": "[encoded data removed]",
      "text/plain": [
       "<Figure size 640x480 with 1 Axes>"
      ]
     },
     "metadata": {},
     "output_type": "display_data"
    }
   ],
   "source": [
    "plotter.plot(size_histories)\n",
    "a = plt.xscale('log')\n",
    "plt.xlim([5, max(plt.xlim())])\n",
    "plt.ylim([0.0, 1])\n",
    "plt.xlabel(\"Epochs [Log Scale]\")"
   ]
  },
  {
   "cell_type": "markdown",
   "id": "87958a4a",
   "metadata": {},
   "source": [
    "## Strategies to prevent overfitting\n",
    "\n",
    "Before getting into the content of this section copying the training logs from the \"Tiny\" model, to use as a baseline for comparison."
   ]
  },
  {
   "cell_type": "code",
   "execution_count": 104,
   "id": "0148e41a",
   "metadata": {},
   "outputs": [
    {
     "data": {
      "text/plain": [
       "WindowsPath('C:/Users/mehri/AppData/Local/Temp/tmpuek5uc5l/tensorboard_logs/regularizers/Tiny')"
      ]
     },
     "execution_count": 104,
     "metadata": {},
     "output_type": "execute_result"
    }
   ],
   "source": [
    "shutil.rmtree(logdir/'regularizers/Tiny', ignore_errors=True)\n",
    "shutil.copytree(logdir/'sizes/Tiny', logdir/'regularizers/Tiny')"
   ]
  },
  {
   "cell_type": "code",
   "execution_count": 105,
   "id": "7a3cd9ce",
   "metadata": {},
   "outputs": [],
   "source": [
    "regularizer_histories = {}\n",
    "regularizer_histories['Tiny'] = size_histories['Tiny']"
   ]
  },
  {
   "cell_type": "markdown",
   "id": "dfe6754a",
   "metadata": {},
   "source": [
    "### Weight regularization\n",
    "\n",
    "a common way to mitigate overfitting is to put constraints on the complexity of a network by forcing its weights only to take small values, which makes the distribution of weight values more \"regular\".\n",
    "\n",
    "* **L1 regularization**, where the cost added is proportional to the absolute value of the weights coefficients (i.e. to what is called the \"L1 norm\" of the weights).\n",
    "\n",
    "* **L2 regularization**, where the cost added is proportional to the square of the value of the weights coefficients (i.e. to what is called the squared \"L2 norm\" of the weights)."
   ]
  },
  {
   "cell_type": "code",
   "execution_count": 106,
   "id": "ada39309",
   "metadata": {},
   "outputs": [
    {
     "name": "stderr",
     "output_type": "stream",
     "text": [
      "c:\\Users\\mehri\\AppData\\Local\\Programs\\Python\\Python312\\Lib\\site-packages\\keras\\src\\layers\\core\\dense.py:87: UserWarning: Do not pass an `input_shape`/`input_dim` argument to a layer. When using Sequential models, prefer using an `Input(shape)` object as the first layer in the model instead.\n",
      "  super().__init__(activity_regularizer=activity_regularizer, **kwargs)\n"
     ]
    },
    {
     "data": {
      "text/html": [
       "<pre style=\"white-space:pre;overflow-x:auto;line-height:normal;font-family:Menlo,'DejaVu Sans Mono',consolas,'Courier New',monospace\"><span style=\"font-weight: bold\">Model: \"sequential_10\"</span>\n",
       "</pre>\n"
      ],
      "text/plain": [
       "\u001b[1mModel: \"sequential_10\"\u001b[0m\n"
      ]
     },
     "metadata": {},
     "output_type": "display_data"
    },
    {
     "data": {
      "text/html": [
       "<pre style=\"white-space:pre;overflow-x:auto;line-height:normal;font-family:Menlo,'DejaVu Sans Mono',consolas,'Courier New',monospace\">┏━━━━━━━━━━━━━━━━━━━━━━━━━━━━━━━━━┳━━━━━━━━━━━━━━━━━━━━━━━━┳━━━━━━━━━━━━━━━┓\n",
       "┃<span style=\"font-weight: bold\"> Layer (type)                    </span>┃<span style=\"font-weight: bold\"> Output Shape           </span>┃<span style=\"font-weight: bold\">       Param # </span>┃\n",
       "┡━━━━━━━━━━━━━━━━━━━━━━━━━━━━━━━━━╇━━━━━━━━━━━━━━━━━━━━━━━━╇━━━━━━━━━━━━━━━┩\n",
       "│ dense_28 (<span style=\"color: #0087ff; text-decoration-color: #0087ff\">Dense</span>)                │ (<span style=\"color: #00d7ff; text-decoration-color: #00d7ff\">None</span>, <span style=\"color: #00af00; text-decoration-color: #00af00\">512</span>)            │        <span style=\"color: #00af00; text-decoration-color: #00af00\">14,848</span> │\n",
       "├─────────────────────────────────┼────────────────────────┼───────────────┤\n",
       "│ dense_29 (<span style=\"color: #0087ff; text-decoration-color: #0087ff\">Dense</span>)                │ (<span style=\"color: #00d7ff; text-decoration-color: #00d7ff\">None</span>, <span style=\"color: #00af00; text-decoration-color: #00af00\">512</span>)            │       <span style=\"color: #00af00; text-decoration-color: #00af00\">262,656</span> │\n",
       "├─────────────────────────────────┼────────────────────────┼───────────────┤\n",
       "│ dense_30 (<span style=\"color: #0087ff; text-decoration-color: #0087ff\">Dense</span>)                │ (<span style=\"color: #00d7ff; text-decoration-color: #00d7ff\">None</span>, <span style=\"color: #00af00; text-decoration-color: #00af00\">512</span>)            │       <span style=\"color: #00af00; text-decoration-color: #00af00\">262,656</span> │\n",
       "├─────────────────────────────────┼────────────────────────┼───────────────┤\n",
       "│ dense_31 (<span style=\"color: #0087ff; text-decoration-color: #0087ff\">Dense</span>)                │ (<span style=\"color: #00d7ff; text-decoration-color: #00d7ff\">None</span>, <span style=\"color: #00af00; text-decoration-color: #00af00\">512</span>)            │       <span style=\"color: #00af00; text-decoration-color: #00af00\">262,656</span> │\n",
       "├─────────────────────────────────┼────────────────────────┼───────────────┤\n",
       "│ dense_32 (<span style=\"color: #0087ff; text-decoration-color: #0087ff\">Dense</span>)                │ (<span style=\"color: #00d7ff; text-decoration-color: #00d7ff\">None</span>, <span style=\"color: #00af00; text-decoration-color: #00af00\">1</span>)              │           <span style=\"color: #00af00; text-decoration-color: #00af00\">513</span> │\n",
       "└─────────────────────────────────┴────────────────────────┴───────────────┘\n",
       "</pre>\n"
      ],
      "text/plain": [
       "┏━━━━━━━━━━━━━━━━━━━━━━━━━━━━━━━━━┳━━━━━━━━━━━━━━━━━━━━━━━━┳━━━━━━━━━━━━━━━┓\n",
       "┃\u001b[1m \u001b[0m\u001b[1mLayer (type)                   \u001b[0m\u001b[1m \u001b[0m┃\u001b[1m \u001b[0m\u001b[1mOutput Shape          \u001b[0m\u001b[1m \u001b[0m┃\u001b[1m \u001b[0m\u001b[1m      Param #\u001b[0m\u001b[1m \u001b[0m┃\n",
       "┡━━━━━━━━━━━━━━━━━━━━━━━━━━━━━━━━━╇━━━━━━━━━━━━━━━━━━━━━━━━╇━━━━━━━━━━━━━━━┩\n",
       "│ dense_28 (\u001b[38;5;33mDense\u001b[0m)                │ (\u001b[38;5;45mNone\u001b[0m, \u001b[38;5;34m512\u001b[0m)            │        \u001b[38;5;34m14,848\u001b[0m │\n",
       "├─────────────────────────────────┼────────────────────────┼───────────────┤\n",
       "│ dense_29 (\u001b[38;5;33mDense\u001b[0m)                │ (\u001b[38;5;45mNone\u001b[0m, \u001b[38;5;34m512\u001b[0m)            │       \u001b[38;5;34m262,656\u001b[0m │\n",
       "├─────────────────────────────────┼────────────────────────┼───────────────┤\n",
       "│ dense_30 (\u001b[38;5;33mDense\u001b[0m)                │ (\u001b[38;5;45mNone\u001b[0m, \u001b[38;5;34m512\u001b[0m)            │       \u001b[38;5;34m262,656\u001b[0m │\n",
       "├─────────────────────────────────┼────────────────────────┼───────────────┤\n",
       "│ dense_31 (\u001b[38;5;33mDense\u001b[0m)                │ (\u001b[38;5;45mNone\u001b[0m, \u001b[38;5;34m512\u001b[0m)            │       \u001b[38;5;34m262,656\u001b[0m │\n",
       "├─────────────────────────────────┼────────────────────────┼───────────────┤\n",
       "│ dense_32 (\u001b[38;5;33mDense\u001b[0m)                │ (\u001b[38;5;45mNone\u001b[0m, \u001b[38;5;34m1\u001b[0m)              │           \u001b[38;5;34m513\u001b[0m │\n",
       "└─────────────────────────────────┴────────────────────────┴───────────────┘\n"
      ]
     },
     "metadata": {},
     "output_type": "display_data"
    },
    {
     "data": {
      "text/html": [
       "<pre style=\"white-space:pre;overflow-x:auto;line-height:normal;font-family:Menlo,'DejaVu Sans Mono',consolas,'Courier New',monospace\"><span style=\"font-weight: bold\"> Total params: </span><span style=\"color: #00af00; text-decoration-color: #00af00\">803,329</span> (3.06 MB)\n",
       "</pre>\n"
      ],
      "text/plain": [
       "\u001b[1m Total params: \u001b[0m\u001b[38;5;34m803,329\u001b[0m (3.06 MB)\n"
      ]
     },
     "metadata": {},
     "output_type": "display_data"
    },
    {
     "data": {
      "text/html": [
       "<pre style=\"white-space:pre;overflow-x:auto;line-height:normal;font-family:Menlo,'DejaVu Sans Mono',consolas,'Courier New',monospace\"><span style=\"font-weight: bold\"> Trainable params: </span><span style=\"color: #00af00; text-decoration-color: #00af00\">803,329</span> (3.06 MB)\n",
       "</pre>\n"
      ],
      "text/plain": [
       "\u001b[1m Trainable params: \u001b[0m\u001b[38;5;34m803,329\u001b[0m (3.06 MB)\n"
      ]
     },
     "metadata": {},
     "output_type": "display_data"
    },
    {
     "data": {
      "text/html": [
       "<pre style=\"white-space:pre;overflow-x:auto;line-height:normal;font-family:Menlo,'DejaVu Sans Mono',consolas,'Courier New',monospace\"><span style=\"font-weight: bold\"> Non-trainable params: </span><span style=\"color: #00af00; text-decoration-color: #00af00\">0</span> (0.00 B)\n",
       "</pre>\n"
      ],
      "text/plain": [
       "\u001b[1m Non-trainable params: \u001b[0m\u001b[38;5;34m0\u001b[0m (0.00 B)\n"
      ]
     },
     "metadata": {},
     "output_type": "display_data"
    },
    {
     "name": "stdout",
     "output_type": "stream",
     "text": [
      "\n",
      "Epoch: 0, accuracy:0.5137,  binary_crossentropy:0.8205,  loss:2.3432,  val_accuracy:0.4850,  val_binary_crossentropy:0.6817,  val_loss:2.1314,  \n",
      ".."
     ]
    },
    {
     "name": "stderr",
     "output_type": "stream",
     "text": [
      "c:\\Users\\mehri\\AppData\\Local\\Programs\\Python\\Python312\\Lib\\site-packages\\keras\\src\\trainers\\epoch_iterator.py:151: UserWarning: Your input ran out of data; interrupting training. Make sure that your dataset or generator can generate at least `steps_per_epoch * epochs` batches. You may need to use the `.repeat()` function when building your dataset.\n",
      "  self._interrupted_warning()\n"
     ]
    },
    {
     "name": "stdout",
     "output_type": "stream",
     "text": [
      "..................................................................................................\n",
      "Epoch: 100, accuracy:0.6401,  binary_crossentropy:0.6135,  loss:0.6409,  val_accuracy:0.6300,  val_binary_crossentropy:0.6195,  val_loss:0.6466,  \n",
      "....................................................................................................\n",
      "Epoch: 200, accuracy:0.6656,  binary_crossentropy:0.5954,  loss:0.6229,  val_accuracy:0.6530,  val_binary_crossentropy:0.6100,  val_loss:0.6375,  \n",
      "....................................................................................................\n",
      "Epoch: 300, accuracy:0.6746,  binary_crossentropy:0.5859,  loss:0.6128,  val_accuracy:0.6600,  val_binary_crossentropy:0.6037,  val_loss:0.6306,  \n",
      "....................................................................................................\n",
      "Epoch: 400, accuracy:0.6781,  binary_crossentropy:0.5791,  loss:0.6055,  val_accuracy:0.6680,  val_binary_crossentropy:0.6018,  val_loss:0.6279,  \n",
      "....................................................................................................\n",
      "Epoch: 500, accuracy:0.6805,  binary_crossentropy:0.5746,  loss:0.6008,  val_accuracy:0.6790,  val_binary_crossentropy:0.5976,  val_loss:0.6235,  \n",
      "....................................................................................................\n",
      "Epoch: 600, accuracy:0.6865,  binary_crossentropy:0.5729,  loss:0.5996,  val_accuracy:0.6840,  val_binary_crossentropy:0.5961,  val_loss:0.6230,  \n",
      "....................................................................................................\n",
      "Epoch: 700, accuracy:0.6930,  binary_crossentropy:0.5645,  loss:0.5908,  val_accuracy:0.6830,  val_binary_crossentropy:0.5927,  val_loss:0.6191,  \n",
      "....................................................................................................\n",
      "Epoch: 800, accuracy:0.6974,  binary_crossentropy:0.5623,  loss:0.5895,  val_accuracy:0.6860,  val_binary_crossentropy:0.5905,  val_loss:0.6177,  \n",
      "....................................................................................................\n",
      "Epoch: 900, accuracy:0.7076,  binary_crossentropy:0.5512,  loss:0.5793,  val_accuracy:0.6890,  val_binary_crossentropy:0.5857,  val_loss:0.6137,  \n",
      "....................................................................................................\n",
      "Epoch: 1000, accuracy:0.7082,  binary_crossentropy:0.5477,  loss:0.5768,  val_accuracy:0.6910,  val_binary_crossentropy:0.5841,  val_loss:0.6132,  \n",
      "....................................................................................................\n",
      "Epoch: 1100, accuracy:0.7143,  binary_crossentropy:0.5449,  loss:0.5745,  val_accuracy:0.6890,  val_binary_crossentropy:0.5807,  val_loss:0.6104,  \n",
      "....................................................................................................\n",
      "Epoch: 1200, accuracy:0.7148,  binary_crossentropy:0.5376,  loss:0.5678,  val_accuracy:0.6900,  val_binary_crossentropy:0.5796,  val_loss:0.6093,  \n",
      "....................................................................................................\n",
      "Epoch: 1300, accuracy:0.7180,  binary_crossentropy:0.5323,  loss:0.5627,  val_accuracy:0.6930,  val_binary_crossentropy:0.5768,  val_loss:0.6073,  \n",
      "....................................................................................................\n",
      "Epoch: 1400, accuracy:0.7233,  binary_crossentropy:0.5259,  loss:0.5566,  val_accuracy:0.6930,  val_binary_crossentropy:0.5756,  val_loss:0.6061,  \n",
      "....................................................................................................\n",
      "Epoch: 1500, accuracy:0.7238,  binary_crossentropy:0.5255,  loss:0.5562,  val_accuracy:0.7000,  val_binary_crossentropy:0.5770,  val_loss:0.6079,  \n",
      "....................................................................................................\n",
      "Epoch: 1600, accuracy:0.7263,  binary_crossentropy:0.5191,  loss:0.5507,  val_accuracy:0.7030,  val_binary_crossentropy:0.5752,  val_loss:0.6067,  \n",
      "..........."
     ]
    }
   ],
   "source": [
    "l2_regulirized_model = tf.keras.Sequential([\n",
    "    layers.Dense(512, activation='elu',\n",
    "                 kernel_regularizer=regularizers.l2(0.001),\n",
    "                 input_shape=(FEATURES,)),\n",
    "    layers.Dense(512, activation='elu',\n",
    "                 kernel_regularizer=regularizers.l2(0.001)),\n",
    "    layers.Dense(512, activation='elu',\n",
    "                 kernel_regularizer=regularizers.l2(0.001)),\n",
    "    layers.Dense(512, activation='elu',\n",
    "                 kernel_regularizer=regularizers.l2(0.001)),\n",
    "    layers.Dense(1)\n",
    "])\n",
    "\n",
    "regularizer_histories['l2'] = compile_and_fit(l2_regulirized_model, \"regularizers/l2\")"
   ]
  },
  {
   "cell_type": "markdown",
   "id": "c3470e7f",
   "metadata": {},
   "source": [
    "### Dropout\n",
    "\n",
    "The intuitive explanation for dropout is that because individual nodes in the network cannot rely on the output of the others, each node must output features that are useful on their own.\n",
    "\n",
    "Dropout, applied to a layer, consists of randomly \"dropping out\" (i.e. set to zero) a number of output features of the layer during training\n",
    "\n",
    "The `dropout rate` is the fraction of the features that are being zeroed-out; it is usually set between **0.2** and **0.5**.\n",
    "\n",
    "**At test time, no units are dropped out**"
   ]
  },
  {
   "cell_type": "markdown",
   "id": "2dd73f3f",
   "metadata": {},
   "source": [
    "Add two dropout layers to your network to check how well they do at reducing overfitting:"
   ]
  },
  {
   "cell_type": "code",
   "execution_count": 107,
   "id": "8aaf74a8",
   "metadata": {},
   "outputs": [
    {
     "data": {
      "text/html": [
       "<pre style=\"white-space:pre;overflow-x:auto;line-height:normal;font-family:Menlo,'DejaVu Sans Mono',consolas,'Courier New',monospace\"><span style=\"font-weight: bold\">Model: \"sequential_11\"</span>\n",
       "</pre>\n"
      ],
      "text/plain": [
       "\u001b[1mModel: \"sequential_11\"\u001b[0m\n"
      ]
     },
     "metadata": {},
     "output_type": "display_data"
    },
    {
     "data": {
      "text/html": [
       "<pre style=\"white-space:pre;overflow-x:auto;line-height:normal;font-family:Menlo,'DejaVu Sans Mono',consolas,'Courier New',monospace\">┏━━━━━━━━━━━━━━━━━━━━━━━━━━━━━━━━━┳━━━━━━━━━━━━━━━━━━━━━━━━┳━━━━━━━━━━━━━━━┓\n",
       "┃<span style=\"font-weight: bold\"> Layer (type)                    </span>┃<span style=\"font-weight: bold\"> Output Shape           </span>┃<span style=\"font-weight: bold\">       Param # </span>┃\n",
       "┡━━━━━━━━━━━━━━━━━━━━━━━━━━━━━━━━━╇━━━━━━━━━━━━━━━━━━━━━━━━╇━━━━━━━━━━━━━━━┩\n",
       "│ dense_33 (<span style=\"color: #0087ff; text-decoration-color: #0087ff\">Dense</span>)                │ (<span style=\"color: #00d7ff; text-decoration-color: #00d7ff\">None</span>, <span style=\"color: #00af00; text-decoration-color: #00af00\">512</span>)            │        <span style=\"color: #00af00; text-decoration-color: #00af00\">14,848</span> │\n",
       "├─────────────────────────────────┼────────────────────────┼───────────────┤\n",
       "│ dropout (<span style=\"color: #0087ff; text-decoration-color: #0087ff\">Dropout</span>)               │ (<span style=\"color: #00d7ff; text-decoration-color: #00d7ff\">None</span>, <span style=\"color: #00af00; text-decoration-color: #00af00\">512</span>)            │             <span style=\"color: #00af00; text-decoration-color: #00af00\">0</span> │\n",
       "├─────────────────────────────────┼────────────────────────┼───────────────┤\n",
       "│ dense_34 (<span style=\"color: #0087ff; text-decoration-color: #0087ff\">Dense</span>)                │ (<span style=\"color: #00d7ff; text-decoration-color: #00d7ff\">None</span>, <span style=\"color: #00af00; text-decoration-color: #00af00\">512</span>)            │       <span style=\"color: #00af00; text-decoration-color: #00af00\">262,656</span> │\n",
       "├─────────────────────────────────┼────────────────────────┼───────────────┤\n",
       "│ dropout_1 (<span style=\"color: #0087ff; text-decoration-color: #0087ff\">Dropout</span>)             │ (<span style=\"color: #00d7ff; text-decoration-color: #00d7ff\">None</span>, <span style=\"color: #00af00; text-decoration-color: #00af00\">512</span>)            │             <span style=\"color: #00af00; text-decoration-color: #00af00\">0</span> │\n",
       "├─────────────────────────────────┼────────────────────────┼───────────────┤\n",
       "│ dense_35 (<span style=\"color: #0087ff; text-decoration-color: #0087ff\">Dense</span>)                │ (<span style=\"color: #00d7ff; text-decoration-color: #00d7ff\">None</span>, <span style=\"color: #00af00; text-decoration-color: #00af00\">512</span>)            │       <span style=\"color: #00af00; text-decoration-color: #00af00\">262,656</span> │\n",
       "├─────────────────────────────────┼────────────────────────┼───────────────┤\n",
       "│ dropout_2 (<span style=\"color: #0087ff; text-decoration-color: #0087ff\">Dropout</span>)             │ (<span style=\"color: #00d7ff; text-decoration-color: #00d7ff\">None</span>, <span style=\"color: #00af00; text-decoration-color: #00af00\">512</span>)            │             <span style=\"color: #00af00; text-decoration-color: #00af00\">0</span> │\n",
       "├─────────────────────────────────┼────────────────────────┼───────────────┤\n",
       "│ dense_36 (<span style=\"color: #0087ff; text-decoration-color: #0087ff\">Dense</span>)                │ (<span style=\"color: #00d7ff; text-decoration-color: #00d7ff\">None</span>, <span style=\"color: #00af00; text-decoration-color: #00af00\">512</span>)            │       <span style=\"color: #00af00; text-decoration-color: #00af00\">262,656</span> │\n",
       "├─────────────────────────────────┼────────────────────────┼───────────────┤\n",
       "│ dropout_3 (<span style=\"color: #0087ff; text-decoration-color: #0087ff\">Dropout</span>)             │ (<span style=\"color: #00d7ff; text-decoration-color: #00d7ff\">None</span>, <span style=\"color: #00af00; text-decoration-color: #00af00\">512</span>)            │             <span style=\"color: #00af00; text-decoration-color: #00af00\">0</span> │\n",
       "├─────────────────────────────────┼────────────────────────┼───────────────┤\n",
       "│ dense_37 (<span style=\"color: #0087ff; text-decoration-color: #0087ff\">Dense</span>)                │ (<span style=\"color: #00d7ff; text-decoration-color: #00d7ff\">None</span>, <span style=\"color: #00af00; text-decoration-color: #00af00\">1</span>)              │           <span style=\"color: #00af00; text-decoration-color: #00af00\">513</span> │\n",
       "└─────────────────────────────────┴────────────────────────┴───────────────┘\n",
       "</pre>\n"
      ],
      "text/plain": [
       "┏━━━━━━━━━━━━━━━━━━━━━━━━━━━━━━━━━┳━━━━━━━━━━━━━━━━━━━━━━━━┳━━━━━━━━━━━━━━━┓\n",
       "┃\u001b[1m \u001b[0m\u001b[1mLayer (type)                   \u001b[0m\u001b[1m \u001b[0m┃\u001b[1m \u001b[0m\u001b[1mOutput Shape          \u001b[0m\u001b[1m \u001b[0m┃\u001b[1m \u001b[0m\u001b[1m      Param #\u001b[0m\u001b[1m \u001b[0m┃\n",
       "┡━━━━━━━━━━━━━━━━━━━━━━━━━━━━━━━━━╇━━━━━━━━━━━━━━━━━━━━━━━━╇━━━━━━━━━━━━━━━┩\n",
       "│ dense_33 (\u001b[38;5;33mDense\u001b[0m)                │ (\u001b[38;5;45mNone\u001b[0m, \u001b[38;5;34m512\u001b[0m)            │        \u001b[38;5;34m14,848\u001b[0m │\n",
       "├─────────────────────────────────┼────────────────────────┼───────────────┤\n",
       "│ dropout (\u001b[38;5;33mDropout\u001b[0m)               │ (\u001b[38;5;45mNone\u001b[0m, \u001b[38;5;34m512\u001b[0m)            │             \u001b[38;5;34m0\u001b[0m │\n",
       "├─────────────────────────────────┼────────────────────────┼───────────────┤\n",
       "│ dense_34 (\u001b[38;5;33mDense\u001b[0m)                │ (\u001b[38;5;45mNone\u001b[0m, \u001b[38;5;34m512\u001b[0m)            │       \u001b[38;5;34m262,656\u001b[0m │\n",
       "├─────────────────────────────────┼────────────────────────┼───────────────┤\n",
       "│ dropout_1 (\u001b[38;5;33mDropout\u001b[0m)             │ (\u001b[38;5;45mNone\u001b[0m, \u001b[38;5;34m512\u001b[0m)            │             \u001b[38;5;34m0\u001b[0m │\n",
       "├─────────────────────────────────┼────────────────────────┼───────────────┤\n",
       "│ dense_35 (\u001b[38;5;33mDense\u001b[0m)                │ (\u001b[38;5;45mNone\u001b[0m, \u001b[38;5;34m512\u001b[0m)            │       \u001b[38;5;34m262,656\u001b[0m │\n",
       "├─────────────────────────────────┼────────────────────────┼───────────────┤\n",
       "│ dropout_2 (\u001b[38;5;33mDropout\u001b[0m)             │ (\u001b[38;5;45mNone\u001b[0m, \u001b[38;5;34m512\u001b[0m)            │             \u001b[38;5;34m0\u001b[0m │\n",
       "├─────────────────────────────────┼────────────────────────┼───────────────┤\n",
       "│ dense_36 (\u001b[38;5;33mDense\u001b[0m)                │ (\u001b[38;5;45mNone\u001b[0m, \u001b[38;5;34m512\u001b[0m)            │       \u001b[38;5;34m262,656\u001b[0m │\n",
       "├─────────────────────────────────┼────────────────────────┼───────────────┤\n",
       "│ dropout_3 (\u001b[38;5;33mDropout\u001b[0m)             │ (\u001b[38;5;45mNone\u001b[0m, \u001b[38;5;34m512\u001b[0m)            │             \u001b[38;5;34m0\u001b[0m │\n",
       "├─────────────────────────────────┼────────────────────────┼───────────────┤\n",
       "│ dense_37 (\u001b[38;5;33mDense\u001b[0m)                │ (\u001b[38;5;45mNone\u001b[0m, \u001b[38;5;34m1\u001b[0m)              │           \u001b[38;5;34m513\u001b[0m │\n",
       "└─────────────────────────────────┴────────────────────────┴───────────────┘\n"
      ]
     },
     "metadata": {},
     "output_type": "display_data"
    },
    {
     "data": {
      "text/html": [
       "<pre style=\"white-space:pre;overflow-x:auto;line-height:normal;font-family:Menlo,'DejaVu Sans Mono',consolas,'Courier New',monospace\"><span style=\"font-weight: bold\"> Total params: </span><span style=\"color: #00af00; text-decoration-color: #00af00\">803,329</span> (3.06 MB)\n",
       "</pre>\n"
      ],
      "text/plain": [
       "\u001b[1m Total params: \u001b[0m\u001b[38;5;34m803,329\u001b[0m (3.06 MB)\n"
      ]
     },
     "metadata": {},
     "output_type": "display_data"
    },
    {
     "data": {
      "text/html": [
       "<pre style=\"white-space:pre;overflow-x:auto;line-height:normal;font-family:Menlo,'DejaVu Sans Mono',consolas,'Courier New',monospace\"><span style=\"font-weight: bold\"> Trainable params: </span><span style=\"color: #00af00; text-decoration-color: #00af00\">803,329</span> (3.06 MB)\n",
       "</pre>\n"
      ],
      "text/plain": [
       "\u001b[1m Trainable params: \u001b[0m\u001b[38;5;34m803,329\u001b[0m (3.06 MB)\n"
      ]
     },
     "metadata": {},
     "output_type": "display_data"
    },
    {
     "data": {
      "text/html": [
       "<pre style=\"white-space:pre;overflow-x:auto;line-height:normal;font-family:Menlo,'DejaVu Sans Mono',consolas,'Courier New',monospace\"><span style=\"font-weight: bold\"> Non-trainable params: </span><span style=\"color: #00af00; text-decoration-color: #00af00\">0</span> (0.00 B)\n",
       "</pre>\n"
      ],
      "text/plain": [
       "\u001b[1m Non-trainable params: \u001b[0m\u001b[38;5;34m0\u001b[0m (0.00 B)\n"
      ]
     },
     "metadata": {},
     "output_type": "display_data"
    },
    {
     "name": "stdout",
     "output_type": "stream",
     "text": [
      "\n",
      "Epoch: 0, accuracy:0.5023,  binary_crossentropy:0.8036,  loss:0.8036,  val_accuracy:0.5150,  val_binary_crossentropy:0.6744,  val_loss:0.6744,  \n",
      "....................................................................................................\n",
      "Epoch: 100, accuracy:0.6344,  binary_crossentropy:0.6147,  loss:0.6147,  val_accuracy:0.6480,  val_binary_crossentropy:0.6085,  val_loss:0.6085,  \n",
      "....................................................................................................\n",
      "Epoch: 200, accuracy:0.6668,  binary_crossentropy:0.5884,  loss:0.5884,  val_accuracy:0.6770,  val_binary_crossentropy:0.5860,  val_loss:0.5860,  \n",
      "....................................................................................................\n",
      "Epoch: 300, accuracy:0.6794,  binary_crossentropy:0.5688,  loss:0.5688,  val_accuracy:0.6770,  val_binary_crossentropy:0.5645,  val_loss:0.5645,  \n",
      "....................................................................................................\n",
      "Epoch: 400, accuracy:0.7016,  binary_crossentropy:0.5404,  loss:0.5404,  val_accuracy:0.7030,  val_binary_crossentropy:0.5397,  val_loss:0.5397,  \n",
      "....................................................................................................\n",
      "Epoch: 500, accuracy:0.7208,  binary_crossentropy:0.5206,  loss:0.5206,  val_accuracy:0.7020,  val_binary_crossentropy:0.5228,  val_loss:0.5228,  \n",
      "....................................................................................................\n",
      "Epoch: 600, accuracy:0.7252,  binary_crossentropy:0.5069,  loss:0.5069,  val_accuracy:0.7210,  val_binary_crossentropy:0.5016,  val_loss:0.5016,  \n",
      "....................................................................................................\n",
      "Epoch: 700, accuracy:0.7510,  binary_crossentropy:0.4727,  loss:0.4727,  val_accuracy:0.7500,  val_binary_crossentropy:0.4901,  val_loss:0.4901,  \n",
      "....................................................................................................\n",
      "Epoch: 800, accuracy:0.7636,  binary_crossentropy:0.4552,  loss:0.4552,  val_accuracy:0.7670,  val_binary_crossentropy:0.4709,  val_loss:0.4709,  \n",
      "....................................................................................................\n",
      "Epoch: 900, accuracy:0.7734,  binary_crossentropy:0.4338,  loss:0.4338,  val_accuracy:0.7830,  val_binary_crossentropy:0.4646,  val_loss:0.4646,  \n",
      "....................................................................................................\n",
      "Epoch: 1000, accuracy:0.7890,  binary_crossentropy:0.4151,  loss:0.4151,  val_accuracy:0.7860,  val_binary_crossentropy:0.4582,  val_loss:0.4582,  \n",
      "....................................................................................................\n",
      "Epoch: 1100, accuracy:0.7978,  binary_crossentropy:0.4000,  loss:0.4000,  val_accuracy:0.8020,  val_binary_crossentropy:0.4641,  val_loss:0.4641,  \n",
      "....................................................................................................\n",
      "Epoch: 1200, accuracy:0.8110,  binary_crossentropy:0.3801,  loss:0.3801,  val_accuracy:0.8030,  val_binary_crossentropy:0.4579,  val_loss:0.4579,  \n",
      "....................................................................................................\n",
      "Epoch: 1300, accuracy:0.8179,  binary_crossentropy:0.3657,  loss:0.3657,  val_accuracy:0.8130,  val_binary_crossentropy:0.4594,  val_loss:0.4594,  \n",
      "....................................................................................................\n",
      "Epoch: 1400, accuracy:0.8260,  binary_crossentropy:0.3558,  loss:0.3558,  val_accuracy:0.8210,  val_binary_crossentropy:0.4502,  val_loss:0.4502,  \n",
      "....................................................................................................\n",
      "Epoch: 1500, accuracy:0.8279,  binary_crossentropy:0.3489,  loss:0.3489,  val_accuracy:0.8200,  val_binary_crossentropy:0.4476,  val_loss:0.4476,  \n",
      "....................................................................................................\n",
      "Epoch: 1600, accuracy:0.8384,  binary_crossentropy:0.3460,  loss:0.3460,  val_accuracy:0.8230,  val_binary_crossentropy:0.4413,  val_loss:0.4413,  \n",
      "..........................................................."
     ]
    }
   ],
   "source": [
    "dropout_model = tf.keras.Sequential([\n",
    "    layers.Dense(512, activation='elu', input_shape=(FEATURES,)),\n",
    "    layers.Dropout(0.5),\n",
    "    layers.Dense(512, activation='elu'),\n",
    "    layers.Dropout(0.5),\n",
    "    layers.Dense(512, activation='elu'),\n",
    "    layers.Dropout(0.5),\n",
    "    layers.Dense(512, activation='elu'),\n",
    "    layers.Dropout(0.5),\n",
    "    layers.Dense(1)\n",
    "])\n",
    "\n",
    "regularizer_histories['dropout'] = compile_and_fit(dropout_model, \"regularizers/dropout\")"
   ]
  },
  {
   "cell_type": "code",
   "execution_count": 110,
   "id": "1d11ed42",
   "metadata": {},
   "outputs": [
    {
     "data": {
      "text/plain": [
       "(0.0, 0.7)"
      ]
     },
     "execution_count": 110,
     "metadata": {},
     "output_type": "execute_result"
    },
    {
     "data": {
      "image/png": "[encoded data removed]",
      "text/plain": [
       "<Figure size 640x480 with 1 Axes>"
      ]
     },
     "metadata": {},
     "output_type": "display_data"
    }
   ],
   "source": [
    "plotter.plot(regularizer_histories)\n",
    "plt.ylim([0.0, 0.7])"
   ]
  },
  {
   "cell_type": "markdown",
   "id": "63f99047",
   "metadata": {},
   "source": [
    "## Conclusion\n",
    "\n",
    "here are the most common ways to prevent overfitting in neural networks:\n",
    "\n",
    "* Get more training data.\n",
    "* Reduce the capacity of the network.\n",
    "* Add weight regularization.\n",
    "* Add dropout."
   ]
  },
  {
   "cell_type": "markdown",
   "id": "0bd335c9",
   "metadata": {},
   "source": []
  }
 ],
 "metadata": {
  "kernelspec": {
   "display_name": "Python_ML (.env)",
   "language": "python",
   "name": "machinelearningenvironment"
  },
  "language_info": {
   "codemirror_mode": {
    "name": "ipython",
    "version": 3
   },
   "file_extension": ".py",
   "mimetype": "text/x-python",
   "name": "python",
   "nbconvert_exporter": "python",
   "pygments_lexer": "ipython3",
   "version": "3.12.5"
  }
 },
 "nbformat": 4,
 "nbformat_minor": 5
}
